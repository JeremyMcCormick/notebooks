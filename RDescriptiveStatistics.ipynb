{
 "cells": [
  {
   "cell_type": "markdown",
   "metadata": {},
   "source": [
    "Descriptive Statistics\n",
    "\n",
    "https://rcompanion.org/handbook/C_02.html"
   ]
  },
  {
   "cell_type": "code",
   "execution_count": null,
   "metadata": {},
   "outputs": [],
   "source": [
    "Define data using inline text"
   ]
  },
  {
   "cell_type": "code",
   "execution_count": 7,
   "metadata": {},
   "outputs": [],
   "source": [
    "Input = (\"\n",
    "Instructor  Location  Attendees\n",
    "Ren         North      7\n",
    "Ren         North     22\n",
    "Ren         North      6\n",
    "Ren         North     15\n",
    "Ren         South     12\n",
    "Ren         South     13\n",
    "Ren         South     14\n",
    "Ren         South     16\n",
    "Stimpy      North     18\n",
    "Stimpy      North     17\n",
    "Stimpy      North     15\n",
    "Stimpy      North      9\n",
    "Stimpy      South     15\n",
    "Stimpy      South     11\n",
    "Stimpy      South     19\n",
    "Stimpy      South     23\n",
    "\")"
   ]
  },
  {
   "cell_type": "markdown",
   "metadata": {},
   "source": [
    "Read data into a data frame"
   ]
  },
  {
   "cell_type": "code",
   "execution_count": 8,
   "metadata": {},
   "outputs": [],
   "source": [
    "Data = read.table(textConnection(Input),header=TRUE)"
   ]
  },
  {
   "cell_type": "code",
   "execution_count": 6,
   "metadata": {
    "jupyter": {
     "source_hidden": true
    }
   },
   "outputs": [
    {
     "name": "stdout",
     "output_type": "stream",
     "text": [
      "[1] \"\\nStudent  Sex     Teacher  Steps  Rating\\na        female  Catbus    8000   7\\nb        female  Catbus    9000  10\\nc        female  Catbus   10000   9\\nd        female  Catbus    7000   5\\ne        female  Catbus    6000   4\\nf        female  Catbus    8000   8\\ng        male    Catbus    7000   6\\nh        male    Catbus    5000   5\\ni        male    Catbus    9000  10\\nj        male    Catbus    7000   8\\nk        female  Satsuki   8000   7\\nl        female  Satsuki   9000   8\\nm        female  Satsuki   9000   8\\nn        female  Satsuki   8000   9\\no        male    Satsuki   6000   5\\np        male    Satsuki   8000   9\\nq        male    Satsuki   7000   6\\nr        female  Totoro   10000  10\\ns        female  Totoro    9000  10\\nt        female  Totoro    8000   8\\nu        female  Totoro    8000   7\\nv        female  Totoro    6000   7\\nw        male    Totoro    6000   8\\nx        male    Totoro    8000  10\\ny        male    Totoro    7000   7\\nz        male    Totoro    7000   7\\n\"\n"
     ]
    }
   ],
   "source": [
    "print(Input)"
   ]
  },
  {
   "cell_type": "markdown",
   "metadata": {},
   "source": [
    "Will output data frame called Data"
   ]
  },
  {
   "cell_type": "code",
   "execution_count": 9,
   "metadata": {},
   "outputs": [
    {
     "data": {
      "text/html": [
       "<table>\n",
       "<caption>A data.frame: 16 × 3</caption>\n",
       "<thead>\n",
       "\t<tr><th scope=col>Instructor</th><th scope=col>Location</th><th scope=col>Attendees</th></tr>\n",
       "\t<tr><th scope=col>&lt;fct&gt;</th><th scope=col>&lt;fct&gt;</th><th scope=col>&lt;int&gt;</th></tr>\n",
       "</thead>\n",
       "<tbody>\n",
       "\t<tr><td>Ren   </td><td>North</td><td> 7</td></tr>\n",
       "\t<tr><td>Ren   </td><td>North</td><td>22</td></tr>\n",
       "\t<tr><td>Ren   </td><td>North</td><td> 6</td></tr>\n",
       "\t<tr><td>Ren   </td><td>North</td><td>15</td></tr>\n",
       "\t<tr><td>Ren   </td><td>South</td><td>12</td></tr>\n",
       "\t<tr><td>Ren   </td><td>South</td><td>13</td></tr>\n",
       "\t<tr><td>Ren   </td><td>South</td><td>14</td></tr>\n",
       "\t<tr><td>Ren   </td><td>South</td><td>16</td></tr>\n",
       "\t<tr><td>Stimpy</td><td>North</td><td>18</td></tr>\n",
       "\t<tr><td>Stimpy</td><td>North</td><td>17</td></tr>\n",
       "\t<tr><td>Stimpy</td><td>North</td><td>15</td></tr>\n",
       "\t<tr><td>Stimpy</td><td>North</td><td> 9</td></tr>\n",
       "\t<tr><td>Stimpy</td><td>South</td><td>15</td></tr>\n",
       "\t<tr><td>Stimpy</td><td>South</td><td>11</td></tr>\n",
       "\t<tr><td>Stimpy</td><td>South</td><td>19</td></tr>\n",
       "\t<tr><td>Stimpy</td><td>South</td><td>23</td></tr>\n",
       "</tbody>\n",
       "</table>\n"
      ],
      "text/latex": [
       "A data.frame: 16 × 3\n",
       "\\begin{tabular}{lll}\n",
       " Instructor & Location & Attendees\\\\\n",
       " <fct> & <fct> & <int>\\\\\n",
       "\\hline\n",
       "\t Ren    & North &  7\\\\\n",
       "\t Ren    & North & 22\\\\\n",
       "\t Ren    & North &  6\\\\\n",
       "\t Ren    & North & 15\\\\\n",
       "\t Ren    & South & 12\\\\\n",
       "\t Ren    & South & 13\\\\\n",
       "\t Ren    & South & 14\\\\\n",
       "\t Ren    & South & 16\\\\\n",
       "\t Stimpy & North & 18\\\\\n",
       "\t Stimpy & North & 17\\\\\n",
       "\t Stimpy & North & 15\\\\\n",
       "\t Stimpy & North &  9\\\\\n",
       "\t Stimpy & South & 15\\\\\n",
       "\t Stimpy & South & 11\\\\\n",
       "\t Stimpy & South & 19\\\\\n",
       "\t Stimpy & South & 23\\\\\n",
       "\\end{tabular}\n"
      ],
      "text/markdown": [
       "\n",
       "A data.frame: 16 × 3\n",
       "\n",
       "| Instructor &lt;fct&gt; | Location &lt;fct&gt; | Attendees &lt;int&gt; |\n",
       "|---|---|---|\n",
       "| Ren    | North |  7 |\n",
       "| Ren    | North | 22 |\n",
       "| Ren    | North |  6 |\n",
       "| Ren    | North | 15 |\n",
       "| Ren    | South | 12 |\n",
       "| Ren    | South | 13 |\n",
       "| Ren    | South | 14 |\n",
       "| Ren    | South | 16 |\n",
       "| Stimpy | North | 18 |\n",
       "| Stimpy | North | 17 |\n",
       "| Stimpy | North | 15 |\n",
       "| Stimpy | North |  9 |\n",
       "| Stimpy | South | 15 |\n",
       "| Stimpy | South | 11 |\n",
       "| Stimpy | South | 19 |\n",
       "| Stimpy | South | 23 |\n",
       "\n"
      ],
      "text/plain": [
       "   Instructor Location Attendees\n",
       "1  Ren        North     7       \n",
       "2  Ren        North    22       \n",
       "3  Ren        North     6       \n",
       "4  Ren        North    15       \n",
       "5  Ren        South    12       \n",
       "6  Ren        South    13       \n",
       "7  Ren        South    14       \n",
       "8  Ren        South    16       \n",
       "9  Stimpy     North    18       \n",
       "10 Stimpy     North    17       \n",
       "11 Stimpy     North    15       \n",
       "12 Stimpy     North     9       \n",
       "13 Stimpy     South    15       \n",
       "14 Stimpy     South    11       \n",
       "15 Stimpy     South    19       \n",
       "16 Stimpy     South    23       "
      ]
     },
     "metadata": {},
     "output_type": "display_data"
    }
   ],
   "source": [
    "Data"
   ]
  },
  {
   "cell_type": "markdown",
   "metadata": {},
   "source": [
    "Shows the structure of the data frame"
   ]
  },
  {
   "cell_type": "code",
   "execution_count": 10,
   "metadata": {},
   "outputs": [
    {
     "name": "stdout",
     "output_type": "stream",
     "text": [
      "'data.frame':\t16 obs. of  3 variables:\n",
      " $ Instructor: Factor w/ 2 levels \"Ren\",\"Stimpy\": 1 1 1 1 1 1 1 1 2 2 ...\n",
      " $ Location  : Factor w/ 2 levels \"North\",\"South\": 1 1 1 1 2 2 2 2 1 1 ...\n",
      " $ Attendees : int  7 22 6 15 12 13 14 16 18 17 ...\n"
     ]
    }
   ],
   "source": [
    "str(Data)"
   ]
  },
  {
   "cell_type": "markdown",
   "metadata": {},
   "source": [
    "Summarizes variables in the data frame"
   ]
  },
  {
   "cell_type": "code",
   "execution_count": 11,
   "metadata": {},
   "outputs": [
    {
     "data": {
      "text/plain": [
       "  Instructor  Location   Attendees    \n",
       " Ren   :8    North:8   Min.   : 6.00  \n",
       " Stimpy:8    South:8   1st Qu.:11.75  \n",
       "                       Median :15.00  \n",
       "                       Mean   :14.50  \n",
       "                       3rd Qu.:17.25  \n",
       "                       Max.   :23.00  "
      ]
     },
     "metadata": {},
     "output_type": "display_data"
    }
   ],
   "source": [
    "summary(Data)"
   ]
  },
  {
   "cell_type": "markdown",
   "metadata": {},
   "source": [
    "The sum of a variable can be found with the sum function"
   ]
  },
  {
   "cell_type": "code",
   "execution_count": 12,
   "metadata": {},
   "outputs": [
    {
     "data": {
      "text/html": [
       "232"
      ],
      "text/latex": [
       "232"
      ],
      "text/markdown": [
       "232"
      ],
      "text/plain": [
       "[1] 232"
      ]
     },
     "metadata": {},
     "output_type": "display_data"
    }
   ],
   "source": [
    "sum(Data$Attendees)"
   ]
  },
  {
   "cell_type": "markdown",
   "metadata": {},
   "source": [
    "The number of observations can be found with the length function"
   ]
  },
  {
   "cell_type": "code",
   "execution_count": 13,
   "metadata": {},
   "outputs": [
    {
     "data": {
      "text/html": [
       "16"
      ],
      "text/latex": [
       "16"
      ],
      "text/markdown": [
       "16"
      ],
      "text/plain": [
       "[1] 16"
      ]
     },
     "metadata": {},
     "output_type": "display_data"
    }
   ],
   "source": [
    "length(Data$Attendees)"
   ]
  },
  {
   "cell_type": "markdown",
   "metadata": {},
   "source": [
    "<u>Mean</u>\n",
    "\n",
    "The mean is the arithmetic average, and is a common statistic used with interval/ratio data.  It is simply the sum of the values divided by the number of values."
   ]
  },
  {
   "cell_type": "code",
   "execution_count": 16,
   "metadata": {},
   "outputs": [
    {
     "data": {
      "text/html": [
       "14.5"
      ],
      "text/latex": [
       "14.5"
      ],
      "text/markdown": [
       "14.5"
      ],
      "text/plain": [
       "[1] 14.5"
      ]
     },
     "metadata": {},
     "output_type": "display_data"
    },
    {
     "data": {
      "text/html": [
       "14.5"
      ],
      "text/latex": [
       "14.5"
      ],
      "text/markdown": [
       "14.5"
      ],
      "text/plain": [
       "[1] 14.5"
      ]
     },
     "metadata": {},
     "output_type": "display_data"
    }
   ],
   "source": [
    "# compute the mean manually\n",
    "sum(Data$Attendees) / length(Data$Attendees)\n",
    "\n",
    "# compute the mean using built-in function\n",
    "mean(Data$Attendees)"
   ]
  },
  {
   "cell_type": "markdown",
   "metadata": {},
   "source": [
    "Watch out for skewed data when reporting mean values"
   ]
  },
  {
   "cell_type": "code",
   "execution_count": 17,
   "metadata": {},
   "outputs": [
    {
     "data": {
      "text/html": [
       "233300"
      ],
      "text/latex": [
       "233300"
      ],
      "text/markdown": [
       "233300"
      ],
      "text/plain": [
       "[1] 233300"
      ]
     },
     "metadata": {},
     "output_type": "display_data"
    }
   ],
   "source": [
    "Income = c(49000, 44000, 25000, 18000, 32000, 47000, 37000, 45000, 36000, 2000000)\n",
    "mean(Income)"
   ]
  },
  {
   "cell_type": "markdown",
   "metadata": {},
   "source": [
    "<u>Median</u>\n",
    "\n",
    "The <b>median</b> is defined as the value below which are 50% of the observations. "
   ]
  },
  {
   "cell_type": "code",
   "execution_count": 18,
   "metadata": {},
   "outputs": [
    {
     "data": {
      "text/html": [
       "15"
      ],
      "text/latex": [
       "15"
      ],
      "text/markdown": [
       "15"
      ],
      "text/plain": [
       "[1] 15"
      ]
     },
     "metadata": {},
     "output_type": "display_data"
    }
   ],
   "source": [
    "median(Data$Attendees)"
   ]
  },
  {
   "cell_type": "code",
   "execution_count": 19,
   "metadata": {},
   "outputs": [
    {
     "data": {
      "text/html": [
       "40500"
      ],
      "text/latex": [
       "40500"
      ],
      "text/markdown": [
       "40500"
      ],
      "text/plain": [
       "[1] 40500"
      ]
     },
     "metadata": {},
     "output_type": "display_data"
    }
   ],
   "source": [
    "median(Income)"
   ]
  },
  {
   "cell_type": "markdown",
   "metadata": {},
   "source": [
    "<u>Mode</u>\n",
    "\n",
    "The <b>mode</b> is simply the value which occurs most frequently. \n",
    "\n",
    "The <i>Mode</i> function can be found in the package <i>DescTools</i>."
   ]
  },
  {
   "cell_type": "code",
   "execution_count": 22,
   "metadata": {},
   "outputs": [
    {
     "data": {
      "text/html": [
       "15"
      ],
      "text/latex": [
       "15"
      ],
      "text/markdown": [
       "15"
      ],
      "text/plain": [
       "[1] 15\n",
       "attr(,\"freq\")\n",
       "[1] 3"
      ]
     },
     "metadata": {},
     "output_type": "display_data"
    }
   ],
   "source": [
    "library(DescTools)\n",
    "Mode(Data$Attendees)"
   ]
  },
  {
   "cell_type": "code",
   "execution_count": null,
   "metadata": {},
   "outputs": [],
   "source": []
  }
 ],
 "metadata": {
  "kernelspec": {
   "display_name": "R",
   "language": "R",
   "name": "ir"
  },
  "language_info": {
   "codemirror_mode": "r",
   "file_extension": ".r",
   "mimetype": "text/x-r-source",
   "name": "R",
   "pygments_lexer": "r",
   "version": "3.6.3"
  }
 },
 "nbformat": 4,
 "nbformat_minor": 4
}
