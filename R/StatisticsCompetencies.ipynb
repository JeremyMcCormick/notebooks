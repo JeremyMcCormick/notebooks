{
 "cells": [
  {
   "cell_type": "markdown",
   "metadata": {},
   "source": [
    "<style>\n",
    "ol {\n",
    "    list-style-type: decimal;\n",
    "}\n",
    "</style>\n",
    "\n",
    "<h2>Statistics Competencies</h2>\n",
    "\n",
    "<ol>\n",
    "    <li>Descriptive Statistics</li>\n",
    "    <ol style=\"list-style-type: decimal;\">\n",
    "        <li>Graphical Methods</li>\n",
    "        <ol style=\"list-style-type: decimal;\">\n",
    "            <li>Histograms, dot plots, and boxplots</li>\n",
    "            <li>Bar charts and pie charts</li>\n",
    "        </ol>\n",
    "        <li>Numerical Methods</li>\n",
    "        <ol style=\"list-style-type: decimal;\">\n",
    "            <li>Measures of central tendency: mean, median</li>\n",
    "            <li>Measures of variability: variance, standard deviation, range, interquartile range</li>\n",
    "            <li>Measures of relative standing: standard core, percentiles, quartiles</li>\n",
    "            <li>Identifying outliers</li>\n",
    "        </ol>\n",
    "    </ol>\n",
    "    <li>Probability</li>\n",
    "    <ol style=\"list-style-type: decimal;\">\n",
    "        <li>Concepts of independence and conditional probability</li>\n",
    "        <li>The binomial distribution</li>\n",
    "        <li>The normal distribution</li>\n",
    "    </ol>\n",
    "    <li>Inference</li>\n",
    "    <ol style=\"list-style-type: decimal;\">\n",
    "        <li>Study Details</li>\n",
    "        <ol style=\"list-style-type: decimal;\">\n",
    "            <li>Simple random sampling, convenience sampling</li>\n",
    "            <li>Random assignment, completely randomized design, matched pairs design</li>\n",
    "        </ol>\n",
    "        <li>Estimation</li>\n",
    "        <ol style=\"list-style-type: decimal;\">\n",
    "            <li>Sampling distributions and properties of estimators</li>\n",
    "            <li> Confidence intervals (Single proportion, single mean, two proportions, two means, and paired\n",
    "                means)</li>\n",
    "        </ol>\n",
    "        <li>Tests of Hypotheses</li>\n",
    "        <ol style=\"list-style-type: decimal;\">\n",
    "            <li>General Principles: Type I and Type II errors, significance level, power</li>\n",
    "            <li>Tests for single populations (z-test for proportion, t-test for mean)</li>\n",
    "            <li>Test for difference in means</li>\n",
    "            <li>Test for paired difference in means</li>\n",
    "            <li>Analysis of Variance</li>\n",
    "            <li>Chi-squared test of association (independence)</li>\n",
    "            <li>Simple regression (Computation of the least squares regression line, inferences on the slope of the\n",
    "line)</li>\n",
    "            <li>Correlation (Pearson correlation coefficient, coefficient of determination)</li>\n",
    "        </ol>\n",
    "    </ol>\n",
    "</ol>\n",
    "\n",
    "</ol>\n",
    "\n"
   ]
  },
  {
   "cell_type": "markdown",
   "metadata": {},
   "source": [
    "<h2>1. Descriptive Statistics</h2>\n",
    "\n",
    "https://en.wikipedia.org/wiki/Descriptive_statistics\n",
    "\n",
    "<h3>1.1 Graphical Methods</h3>\n",
    "<h4>1.1.1 Histograms, dot plots, and boxplots</h4>"
   ]
  },
  {
   "cell_type": "code",
   "execution_count": null,
   "metadata": {},
   "outputs": [],
   "source": [
    "Input = (\"\n",
    "Student  Sex     Teacher  Steps  Rating\n",
    "a        female  Catbus    8000   7\n",
    "b        female  Catbus    9000  10\n",
    "c        female  Catbus   10000   9\n",
    "d        female  Catbus    7000   5\n",
    "e        female  Catbus    6000   4\n",
    "f        female  Catbus    8000   8\n",
    "g        male    Catbus    7000   6\n",
    "h        male    Catbus    5000   5\n",
    "i        male    Catbus    9000  10\n",
    "j        male    Catbus    7000   8\n",
    "k        female  Satsuki   8000   7\n",
    "l        female  Satsuki   9000   8\n",
    "m        female  Satsuki   9000   8\n",
    "n        female  Satsuki   8000   9\n",
    "o        male    Satsuki   6000   5\n",
    "p        male    Satsuki   8000   9\n",
    "q        male    Satsuki   7000   6\n",
    "r        female  Totoro   10000  10\n",
    "s        female  Totoro    9000  10\n",
    "t        female  Totoro    8000   8\n",
    "u        female  Totoro    8000   7\n",
    "v        female  Totoro    6000   7\n",
    "w        male    Totoro    6000   8\n",
    "x        male    Totoro    8000  10\n",
    "y        male    Totoro    7000   7\n",
    "z        male    Totoro    7000   7\n",
    "\")\n",
    "\n",
    "Data = read.table(textConnection(Input),header=TRUE)\n",
    "Data"
   ]
  },
  {
   "cell_type": "code",
   "execution_count": null,
   "metadata": {},
   "outputs": [],
   "source": [
    "hist(Data$Steps, \n",
    "     main=\"Steps\", \n",
    "     xlab=\"Number of Steps\", \n",
    "     border=\"blue\", \n",
    "     col=\"green\", \n",
    "     xlim=c(4000, 11000))\n",
    "#axis(1, col=\"dodgerblue\", col.ticks=\"green\", col.axis=\"orange\")\n"
   ]
  },
  {
   "cell_type": "code",
   "execution_count": null,
   "metadata": {},
   "outputs": [],
   "source": [
    "plot(Rating ~ jitter(Steps),  # jitter offsets points so you can see them all\n",
    "    data=Data,\n",
    "    pch=16,                   # shape of points\n",
    "    cex=1.0,                  # size of points\n",
    "    col=\"red\",\n",
    "    xlab=\"Steps\",\n",
    "    ylab=\"Rating\")"
   ]
  },
  {
   "cell_type": "code",
   "execution_count": null,
   "metadata": {},
   "outputs": [],
   "source": [
    "boxplot(Data$Steps, ylab=\"Steps\")"
   ]
  },
  {
   "cell_type": "markdown",
   "metadata": {},
   "source": [
    "<u>Box plot for with means</u>\n",
    "\n",
    "A <a href=\"https://en.wikipedia.org/wiki/Box_plot\">box plot</a> is a method for graphically depicting groups of numerical data through their quartiles."
   ]
  },
  {
   "cell_type": "code",
   "execution_count": null,
   "metadata": {},
   "outputs": [],
   "source": [
    "M = mean(Data$Steps)\n",
    "boxplot(Data$Steps, ylab=\"Steps\", xlab=\"\")\n",
    "points(M, col=\"red\", pch=\"+\", cex=2)"
   ]
  },
  {
   "cell_type": "markdown",
   "metadata": {},
   "source": [
    "<u>Box plot for one-way data</u>"
   ]
  },
  {
   "cell_type": "code",
   "execution_count": null,
   "metadata": {},
   "outputs": [],
   "source": [
    "boxplot(Steps ~ Sex, data=Data, ylab=\"Steps\")"
   ]
  },
  {
   "cell_type": "markdown",
   "metadata": {},
   "source": [
    "<u>Box plot for one-way data with means</u>"
   ]
  },
  {
   "cell_type": "code",
   "execution_count": null,
   "metadata": {},
   "outputs": [],
   "source": [
    "M = tapply(Data$Steps, \n",
    "          INDEX = Data$Sex,\n",
    "          FUN = mean)\n",
    "\n",
    "boxplot(Steps ~ Sex, data=Data, ylab=\"Steps\")\n",
    "\n",
    "points(M, col=\"red\", pch=\"+\", cex=2)"
   ]
  },
  {
   "cell_type": "markdown",
   "metadata": {},
   "source": [
    "<u>Box plot for two-way data</u>"
   ]
  },
  {
   "cell_type": "code",
   "execution_count": null,
   "metadata": {},
   "outputs": [],
   "source": [
    "boxplot(Steps ~ Sex + Teacher, data=Data, ylab=\"Steps\", cex.axis=0.77)"
   ]
  },
  {
   "cell_type": "markdown",
   "metadata": {},
   "source": [
    "<u>Box plot for two-way data with means</u>"
   ]
  },
  {
   "cell_type": "code",
   "execution_count": null,
   "metadata": {},
   "outputs": [],
   "source": [
    "M = tapply(Data$Steps,\n",
    "           INDEX = Data$Teach : Data$Sex,\n",
    "           FUN = mean)\n",
    "\n",
    "boxplot(Steps ~ Sex + Teacher,\n",
    "        data = Data,\n",
    "        ylab = \"Steps\",\n",
    "        cex.axis=0.77)\n",
    "\n",
    "points(M, col=\"red\", pch=\"+\", cex=2)"
   ]
  },
  {
   "cell_type": "markdown",
   "metadata": {},
   "source": [
    "<h4>1.1.2 Bar charts and pie charts<h4>"
   ]
  },
  {
   "cell_type": "markdown",
   "metadata": {},
   "source": [
    "<u>Bar chart for categorical data</u>"
   ]
  },
  {
   "cell_type": "code",
   "execution_count": null,
   "metadata": {},
   "outputs": [],
   "source": [
    "barplot(table(Data$Sex))"
   ]
  },
  {
   "cell_type": "markdown",
   "metadata": {},
   "source": [
    "<u>Bar chart with counts for continuous data</u>"
   ]
  },
  {
   "cell_type": "code",
   "execution_count": null,
   "metadata": {},
   "outputs": [],
   "source": [
    "barplot(table(Data$Steps))"
   ]
  },
  {
   "cell_type": "code",
   "execution_count": null,
   "metadata": {},
   "outputs": [],
   "source": [
    "#ordered_data = Data[order(Data$Steps, decreasing = TRUE),]\n",
    "#tbl <- table(ordered_data$Steps)\n",
    "#tbl[order(as.numeric(names(tbl)))]\n",
    "#tbl\n",
    "#barplot(tbl)\n",
    "#barplot(table(ordered_data$Steps))"
   ]
  },
  {
   "cell_type": "markdown",
   "metadata": {},
   "source": [
    "<u>Stacked bar plot</u>"
   ]
  },
  {
   "cell_type": "code",
   "execution_count": null,
   "metadata": {},
   "outputs": [],
   "source": [
    "counts <- table(Data$Sex, Data$Teacher)\n",
    "barplot(counts, main=\"Teacher by Gender\", col=c(\"darkblue\", \"red\"), legend = rownames(counts))"
   ]
  },
  {
   "cell_type": "markdown",
   "metadata": {},
   "source": [
    "<u>Grouped bar plot</u>"
   ]
  },
  {
   "cell_type": "code",
   "execution_count": null,
   "metadata": {},
   "outputs": [],
   "source": [
    "barplot(counts, main=\"Teacher by Gender\", col=c(\"darkblue\", \"red\"), legend = rownames(counts), beside=TRUE)"
   ]
  },
  {
   "cell_type": "markdown",
   "metadata": {},
   "source": [
    "<u>Pie charts</u>\n",
    "\n",
    "https://www.statmethods.net/graphs/pie.html"
   ]
  },
  {
   "cell_type": "code",
   "execution_count": null,
   "metadata": {},
   "outputs": [],
   "source": [
    "slices <- c(10, 12,4, 16, 8)\n",
    "lbls <- c(\"US\", \"UK\", \"Australia\", \"Germany\", \"France\")\n",
    "pie(slices, labels = lbls, main=\"Pie Chart of Countries\")"
   ]
  },
  {
   "cell_type": "markdown",
   "metadata": {},
   "source": [
    "<h3>1.2 Numerical Methods</h3>\n",
    "<h4>1.2.1 Measures of central tendency: mean, median</h4>"
   ]
  },
  {
   "cell_type": "markdown",
   "metadata": {},
   "source": [
    "<u>Mean</u>"
   ]
  },
  {
   "cell_type": "code",
   "execution_count": null,
   "metadata": {},
   "outputs": [],
   "source": [
    "mean(Data$Rating)"
   ]
  },
  {
   "cell_type": "markdown",
   "metadata": {},
   "source": [
    "<u>Median</u>"
   ]
  },
  {
   "cell_type": "code",
   "execution_count": null,
   "metadata": {},
   "outputs": [],
   "source": [
    "median(Data$Rating)"
   ]
  },
  {
   "cell_type": "markdown",
   "metadata": {},
   "source": [
    "<h4>1.2.2 Measures of variability: variance, standard deviation, range, interquartile range</h4>"
   ]
  },
  {
   "cell_type": "markdown",
   "metadata": {},
   "source": [
    "<u>Variance</u>"
   ]
  },
  {
   "cell_type": "markdown",
   "metadata": {},
   "source": [
    "The <i>variance</i> is a numerical measure of how the data values are dispersed around the mean. \n",
    "\n",
    "The sample variance is defined as:"
   ]
  },
  {
   "cell_type": "markdown",
   "metadata": {},
   "source": [
    "![](files/numerical-measures5x.png)"
   ]
  },
  {
   "cell_type": "code",
   "execution_count": null,
   "metadata": {},
   "outputs": [],
   "source": [
    "var(Data$Rating)"
   ]
  },
  {
   "cell_type": "markdown",
   "metadata": {},
   "source": [
    "<u>Standard deviation</u>"
   ]
  },
  {
   "cell_type": "markdown",
   "metadata": {},
   "source": [
    "The <i>standard deviation</i> of an observation variable is the square root of its variance."
   ]
  },
  {
   "cell_type": "code",
   "execution_count": null,
   "metadata": {},
   "outputs": [],
   "source": [
    "sd(Data$Rating)"
   ]
  },
  {
   "cell_type": "markdown",
   "metadata": {},
   "source": [
    "<u>Range</u>"
   ]
  },
  {
   "cell_type": "markdown",
   "metadata": {},
   "source": [
    "The <i>range</i> of an observation variable is the difference of its largest and smallest data values. It is a measure of how far apart the entire data spreads in value."
   ]
  },
  {
   "cell_type": "code",
   "execution_count": null,
   "metadata": {},
   "outputs": [],
   "source": [
    "max(Data$Rating) - min(Data$Rating)"
   ]
  },
  {
   "cell_type": "markdown",
   "metadata": {},
   "source": [
    "<u>Interquartile range</u>\n",
    "\n",
    "The <i>interquartile range</i> of an observation variable is the difference of its upper and lower quartiles. It is a measure of how far apart the middle portion of data spreads in value."
   ]
  },
  {
   "cell_type": "code",
   "execution_count": null,
   "metadata": {},
   "outputs": [],
   "source": [
    "IQR(Data$Rating)"
   ]
  },
  {
   "cell_type": "markdown",
   "metadata": {},
   "source": [
    "<h4>1.2.3 Measures of relative standing: standard core, percentiles, quartiles</h4>"
   ]
  },
  {
   "cell_type": "markdown",
   "metadata": {},
   "source": [
    "The nth percentile of an observation variable is the value that cuts off the first n percent of the data values when it is sorted in ascending order."
   ]
  },
  {
   "cell_type": "code",
   "execution_count": null,
   "metadata": {},
   "outputs": [],
   "source": [
    "quantile(Data$Rating, c(.25, .5, .75))"
   ]
  },
  {
   "cell_type": "markdown",
   "metadata": {},
   "source": [
    "<h4>1.2.4 Identifying Outliers</h4>"
   ]
  },
  {
   "cell_type": "markdown",
   "metadata": {},
   "source": [
    "This webpage provides comprehensive information on identifying outliers in R:\n",
    "\n",
    "https://www.statsandr.com/blog/outliers-detection-in-r/"
   ]
  },
  {
   "cell_type": "markdown",
   "metadata": {},
   "source": [
    "<u>Introduction</u>\n",
    "\n",
    "An <i>outlier</i> is a value or an observation that is distance from other observations, that is to say, a data point that differs significantly from other data points."
   ]
  },
  {
   "cell_type": "markdown",
   "metadata": {},
   "source": [
    "Outliers may arise from inherent variability of the observed phenomenon (extreme values) or errors (mistakes)."
   ]
  },
  {
   "cell_type": "markdown",
   "metadata": {},
   "source": [
    "Considerations in removing outliers:\n",
    "\n",
    "<ol>\n",
    "    <li>The domain/context of the analyses and the research question. Sometimes may be removed as they indicate a malfunctioning process or might be kept because they contain valuable information. Analyses may be performed twice, once with and once without outliers to evaluate their impact on the conclusions. If results change drastically due to some influential values, this should caution the research to make overambitious claims.</li>\n",
    "    <li>Whether the tests you will perform are robust to the presence of outliers or not. For instance, the slope of a simple linear regression may significantly vary with just one outlier, whereas non-parametric tests such as the <i>Wilcoxon test</i> are usually robust to outliers.\n",
    "     <li>How distant are the outliers from other observations? Some observations considered as outliers are actually not really extreme compared to all other observations, while other potential outliers may be really distant from the rest of the observations</li>\n",
    "</ol>"
   ]
  },
  {
   "cell_type": "markdown",
   "metadata": {},
   "source": [
    "<u>Maximum and Minimum</u>"
   ]
  },
  {
   "cell_type": "code",
   "execution_count": null,
   "metadata": {},
   "outputs": [],
   "source": [
    "dat <- ggplot2::mpg\n",
    "summary(dat$hwy)"
   ]
  },
  {
   "cell_type": "code",
   "execution_count": null,
   "metadata": {},
   "outputs": [],
   "source": [
    "min(dat$hwy)\n",
    "max(dat$hwy)"
   ]
  },
  {
   "cell_type": "markdown",
   "metadata": {},
   "source": [
    "<u>Histogram</u>"
   ]
  },
  {
   "cell_type": "code",
   "execution_count": null,
   "metadata": {},
   "outputs": [],
   "source": [
    "hist(dat$hwy, xlab=\"hwy\", main=\"Histogram of hwy\", breaks=sqrt(nrow(dat)))"
   ]
  },
  {
   "cell_type": "markdown",
   "metadata": {},
   "source": [
    "<u>IQR criterion</u>"
   ]
  },
  {
   "cell_type": "markdown",
   "metadata": {},
   "source": [
    "The IQR criterion means that all observations above ![](files/iqr_below.png) and below ![](files/iqr_above.png) are considered as potential outliers by R. nIn other words, all observations outside of the following interval will be considered as potential outliers:\n",
    "\n",
    "![](files/outliers.png)"
   ]
  },
  {
   "cell_type": "code",
   "execution_count": null,
   "metadata": {},
   "outputs": [],
   "source": [
    "hwy_iqr = IQR(dat$hwy)\n",
    "hwy_quart = quantile(dat$hwy, c(.25, .75))\n",
    "hwy_q25 = unname(hwy_quart)[1]\n",
    "hwy_q75 = unname(hwy_quart)[2]\n",
    "\n",
    "outlier_low = hwy_q25 - (1.5 * hwy_iqr)\n",
    "outlier_high = hwy_q75 + (1.5 * hwy_iqr)\n",
    "print(paste(\"outlier low: \", outlier_low), quote = FALSE)\n",
    "print(paste(\"outlier high: \", outlier_high), quote = FALSE)"
   ]
  },
  {
   "cell_type": "code",
   "execution_count": null,
   "metadata": {},
   "outputs": [],
   "source": [
    "# select values from data frame to find outliers\n",
    "hwy_outliers1 = dat[which(dat$hwy < outlier_low | dat$hwy > outlier_high), ]\n",
    "hwy_outliers1$hwy\n",
    "\n",
    "# use subset function to find outliers\n",
    "hwy_outliers2 = subset(dat, hwy < outlier_low | hwy > outlier_high)\n",
    "hwy_outliers2$hwy"
   ]
  },
  {
   "cell_type": "markdown",
   "metadata": {},
   "source": [
    "<u>Percentiles</u>\n",
    "\n",
    "With the percentiles method, all observations that lie outside the interval formed by the 2.5 and 97.5 percentiles will be considered as potential outliers. Other percentiles such as the 1 and 99, or the 5 and 95 percentiles can also be considered to construct the interval."
   ]
  },
  {
   "cell_type": "code",
   "execution_count": null,
   "metadata": {},
   "outputs": [],
   "source": [
    "lower_bound <- quantile(dat$hwy, 0.025)\n",
    "upper_bound <- quantile(dat$hwy, 0.975)\n",
    "outlier_ind <- which(dat$hwy < lower_bound | dat$hwy > upper_bound)\n",
    "lower_bound\n",
    "upper_bound\n",
    "#sort(outlier_ind)\n",
    "dat[outlier_ind, \"hwy\"]"
   ]
  },
  {
   "cell_type": "code",
   "execution_count": null,
   "metadata": {},
   "outputs": [],
   "source": [
    "dat[outlier_ind, ]"
   ]
  },
  {
   "cell_type": "code",
   "execution_count": null,
   "metadata": {},
   "outputs": [],
   "source": [
    "lower_bound <- quantile(dat$hwy, 0.01)\n",
    "upper_bound <- quantile(dat$hwy, 0.99)\n",
    "outlier_ind <- which(dat$hwy < lower_bound | dat$hwy > upper_bound)\n",
    "lower_bound\n",
    "upper_bound\n",
    "dat[outlier_ind, ]"
   ]
  },
  {
   "cell_type": "markdown",
   "metadata": {},
   "source": [
    "<u>Hampel filter</u>\n",
    "\n",
    "The <i>Hampel filter</i> considers outliers as the values out side the interval formed by the median, plus or minus 3 <a href=\"https://en.wikipedia.org/wiki/Median_absolute_deviation\">median absolute deviations</a> (MAD)."
   ]
  },
  {
   "cell_type": "markdown",
   "metadata": {},
   "source": [
    "![](files/hampel.png)"
   ]
  },
  {
   "cell_type": "code",
   "execution_count": null,
   "metadata": {},
   "outputs": [],
   "source": [
    "lower_bound <- median(dat$hwy) - 3 * mad(dat$hwy)\n",
    "print(lower_bound)"
   ]
  },
  {
   "cell_type": "code",
   "execution_count": null,
   "metadata": {},
   "outputs": [],
   "source": [
    "upper_bound <- median(dat$hwy) + 3 * mad(dat$hwy)\n",
    "upper_bound"
   ]
  },
  {
   "cell_type": "code",
   "execution_count": null,
   "metadata": {},
   "outputs": [],
   "source": [
    "outlier_ind <- which(dat$hwy < lower_bound | dat$hwy > upper_bound)\n",
    "print(outlier_ind)"
   ]
  },
  {
   "cell_type": "markdown",
   "metadata": {},
   "source": [
    "<u>Dixon's test</u>\n",
    "\n",
    "<a href=\"https://en.wikipedia.org/wiki/Dixon%27s_Q_test\">Dixon's Q test</a> is used to test whether a single low or high value is an outlier. The dixon test is most useful for small sample sizes (such as n  &leq; 25)."
   ]
  },
  {
   "cell_type": "markdown",
   "metadata": {},
   "source": [
    "The test can be performed using the <code>dixon.test()</code> function from the <code>{outliers}</code> package."
   ]
  },
  {
   "cell_type": "code",
   "execution_count": null,
   "metadata": {},
   "outputs": [],
   "source": [
    "library(outliers)\n",
    "subdat <- dat[1:20,]\n",
    "test <- dixon.test(subdat$hwy)\n",
    "test"
   ]
  },
  {
   "cell_type": "markdown",
   "metadata": {},
   "source": [
    "To test for the highest value, add the <code>opposite = TRUE</code> argument to the function:"
   ]
  },
  {
   "cell_type": "code",
   "execution_count": null,
   "metadata": {},
   "outputs": [],
   "source": [
    "test <- dixon.test(subdat$hwy, opposite = TRUE)\n",
    "test"
   ]
  },
  {
   "cell_type": "markdown",
   "metadata": {},
   "source": [
    "<u>Rosner's test</u>\n",
    "\n",
    "<i>Rosner's test</i> for outliers can detect several outliers at once, and it is designed to avoid the problem of masking, where an outlier that is close in value to another outlier can go undetected.\n",
    "\n",
    "The Rosner test is most appropriate when the sample size is large (n &geq; 20)."
   ]
  },
  {
   "cell_type": "markdown",
   "metadata": {},
   "source": [
    "To perform the test, we use the <code>rosnerTest()</code> function from the <code>{EnvStats}</code> package. This function requires at least 2 arguments: the data and the number of suspected outliers <code>k</code> (with <code>k = 3</code> as the default)."
   ]
  },
  {
   "cell_type": "code",
   "execution_count": null,
   "metadata": {},
   "outputs": [],
   "source": [
    "if (!require(EnvStats)) install.packages(\"EnvStats\")\n",
    "test <- rosnerTest(dat$hwy, k = 3)\n",
    "test"
   ]
  },
  {
   "cell_type": "code",
   "execution_count": null,
   "metadata": {},
   "outputs": [],
   "source": [
    "test$all.stats\n"
   ]
  },
  {
   "cell_type": "markdown",
   "metadata": {},
   "source": [
    "See <a href=\"https://www.statsandr.com/blog/outliers-detection-in-r/#additional-remarks\">Additional remarks</a> for other methods to detect outliers."
   ]
  },
  {
   "cell_type": "markdown",
   "metadata": {},
   "source": [
    "<h2>Probability</h2>\n",
    "\n",
    "HTML Math symbols (for notation)\n",
    "\n",
    "https://www.toptal.com/designers/htmlarrows/math/\n",
    "\n",
    "<h3>Concepts of independence and conditional probability</h3>\n",
    "\n",
    "https://bookdown.org/speegled/foundations-of-statistics/prob.html"
   ]
  },
  {
   "cell_type": "markdown",
   "metadata": {},
   "source": [
    "Two events are <a href=\"https://en.wikipedia.org/wiki/Independence_(probability_theory)\">statistically independent</a> if the occurrence of one does not affect the probability of occurrence of the other."
   ]
  },
  {
   "cell_type": "markdown",
   "metadata": {},
   "source": [
    "Two events, A and B, are independent if <i>P(A | B) = P(A)</i> and <i>P(B | A) = P(B)</i>."
   ]
  },
  {
   "cell_type": "markdown",
   "metadata": {},
   "source": [
    "<u>Definitions</u>\n",
    "\n",
    "An <i>experiment</i> is a process that produces an <i>observation</i>.\n",
    "\n",
    "An <i>outcome</i> is a possible observation.\n",
    "\n",
    "The set of all possible outcomes is called the <i>sample space</i> (denoted S).\n",
    "\n",
    "An <i>event</i> is a subset of the sample space.\n",
    "\n",
    "Let A and B be events in a sample space S.\n",
    "\n",
    "<ol>\n",
    "    <li>&#8745; is the intersection operator. A &#8745; B is the set of outcomes that are in <i>both</i> A and B.</li>\n",
    "    <li>&#8746; is the union operator. A &#8746; B is the set of outcomes that are in <i>either</i> A or B.</li>\n",
    "    <li>&#256; is the set of outcomes that are <i>not</i> in A (but are in S).\n",
    "    <li>A \\ B is the set of outcomes that are in A and not in B.\n",
    "</ol>"
   ]
  },
  {
   "cell_type": "markdown",
   "metadata": {},
   "source": [
    "<u>R set operations</u>\n",
    "\n",
    "https://stat.ethz.ch/R-manual/R-devel/library/base/html/sets.html"
   ]
  },
  {
   "cell_type": "code",
   "execution_count": null,
   "metadata": {},
   "outputs": [],
   "source": [
    "x <- c(1, 2, 3, 4, 5)\n",
    "y <- c(4, 5, 6, 7, 8)\n",
    "union(x, y)"
   ]
  },
  {
   "cell_type": "code",
   "execution_count": null,
   "metadata": {},
   "outputs": [],
   "source": [
    "intersect(x, y)"
   ]
  },
  {
   "cell_type": "code",
   "execution_count": null,
   "metadata": {},
   "outputs": [],
   "source": [
    "# in X and not in Y\n",
    "setdiff(x, y)\n",
    "\n",
    "# in Y and not in X\n",
    "setdiff(y, x)"
   ]
  },
  {
   "cell_type": "code",
   "execution_count": null,
   "metadata": {},
   "outputs": [],
   "source": [
    "setequal(x, y)"
   ]
  },
  {
   "cell_type": "code",
   "execution_count": null,
   "metadata": {},
   "outputs": [],
   "source": [
    "setequal(x, x)"
   ]
  },
  {
   "cell_type": "code",
   "execution_count": null,
   "metadata": {},
   "outputs": [],
   "source": [
    "setequal(x, c(1, 2, 3, 4, 5))"
   ]
  },
  {
   "cell_type": "markdown",
   "metadata": {},
   "source": [
    "Two sets are <i>disjoint</i> if they do not share any elements in common.\n",
    "\n",
    "Probabilities obey the following rules:\n",
    "\n",
    "<ol>\n",
    "    <li>P(A &#8746; B) = P(A) + P(B) - P(A &#8745; B)</li>\n",
    "    <li>P(A) = 1 - P(&#256;), where &#256; = S \\ A</li>\n",
    "    <li>If A and B are disjoint, then P(A &#8746; B) = P(A) + P(B)</li>\n",
    "    <li>P(S) = 1</li>\n",
    "</ol>"
   ]
  },
  {
   "cell_type": "markdown",
   "metadata": {},
   "source": [
    "<u>Dice example</u>\n",
    "\n",
    "Assume a 10-sided dice\n",
    "\n",
    "S = {1, 2, ..., 10}\n",
    "\n",
    "A = {1, 2, 3, 4}\n",
    "\n",
    "B = {4, 5, 6, 7, 8}\n",
    "\n",
    "P(A) = 0.4\n",
    "\n",
    "P(B) = 0.5\n",
    "\n",
    "P(A &#8745; B) = 0.1\n",
    "\n",
    "Rule #1\n",
    "\n",
    "P(A &#8746; B) = 0.4 + 0.5 - 0.1 = 0.8\n"
   ]
  },
  {
   "cell_type": "markdown",
   "metadata": {},
   "source": [
    "<u>Conditional probability</u>\n",
    "\n",
    "The <i>conditional probability</i> of A given B is\n",
    "\n",
    "![](files/cond_prob.png)\n",
    "\n",
    "<a href=\"https://www.statisticshowto.com/probability-and-statistics/statistics-definitions/conditional-probability-definition-examples/\">Conditional probability examples</a>\n"
   ]
  },
  {
   "cell_type": "markdown",
   "metadata": {},
   "source": [
    "<h3>2.2 The binomial distribution</h3>"
   ]
  },
  {
   "cell_type": "markdown",
   "metadata": {},
   "source": [
    "The <a href=\"http://www.r-tutor.com/elementary-statistics/probability-distributions/binomial-distribution\">binomial distribution</a> is a discrete probability distribution describing the outcome of <i>n</i> independent trials in an experiment. Each trial is assumed to have only two outcomes, either success or failure. If the probability of a successful trial is <i>p</i>, then the probability of having <i>x</i> successful outcomes in an experiment of <i>n</i> independent trials is as follows:\n",
    "\n",
    "![](files/binom.png)"
   ]
  },
  {
   "cell_type": "code",
   "execution_count": null,
   "metadata": {},
   "outputs": [],
   "source": [
    "p = 0.1\n",
    "x = 5\n",
    "n = 10\n",
    "dbinom(s, size=n, prob=p)"
   ]
  },
  {
   "cell_type": "markdown",
   "metadata": {},
   "source": [
    "The <i>cumulative probability function</i> computes the probability of having <i>x</i> or fewer successful outcomes."
   ]
  },
  {
   "cell_type": "code",
   "execution_count": null,
   "metadata": {},
   "outputs": [],
   "source": [
    "pbinom(p, size=n, prob=p)"
   ]
  },
  {
   "cell_type": "markdown",
   "metadata": {},
   "source": [
    "<h3>The normal distribution</h3>\n",
    "\n",
    "![](files/norm.svg)\n",
    "\n",
    "https://www.geeksforgeeks.org/normal-distribution-in-r/\n",
    "\n",
    "https://www.r-bloggers.com/2013/02/normal-distribution-functions/"
   ]
  },
  {
   "cell_type": "markdown",
   "metadata": {},
   "source": [
    "<code>dnorm</code> is the <i>Probability Density Function (PDF)</i>, giving the density (height of the PDF) of the normal at a given mean and SD."
   ]
  },
  {
   "cell_type": "code",
   "execution_count": null,
   "metadata": {},
   "outputs": [],
   "source": [
    "x = seq(-15, 15, by=0.1)\n",
    "\n",
    "y = dnorm(x, mean(x), sd(x))\n",
    "plot(x, y)"
   ]
  },
  {
   "cell_type": "markdown",
   "metadata": {},
   "source": [
    "The <code>pnorm</code> function is the <i>Cumulative Distribution Function (CDF)</i>, which measures the probability that a random number takes a value less than or equal to x, or the area under the standard normal curve to the left of the x value. "
   ]
  },
  {
   "cell_type": "code",
   "execution_count": null,
   "metadata": {},
   "outputs": [],
   "source": [
    "x <- seq(-10, 10, by=0.1)   \n",
    "y <- pnorm(x, mean = 2.5, sd = 2) \n",
    "plot(x, y) "
   ]
  },
  {
   "cell_type": "markdown",
   "metadata": {},
   "source": [
    "The <code>rnorm</code> function generates numbers from the normal distribution."
   ]
  },
  {
   "cell_type": "code",
   "execution_count": null,
   "metadata": {},
   "outputs": [],
   "source": [
    "x <- rnorm(10000, mean=90, sd=5)\n",
    "hist(x, breaks=100)"
   ]
  },
  {
   "cell_type": "markdown",
   "metadata": {},
   "source": [
    "The <code>qnorm</code> is the <i>Quantile Function</i>, which is the inverse of <code>pnorm()</code>."
   ]
  },
  {
   "cell_type": "code",
   "execution_count": null,
   "metadata": {},
   "outputs": [],
   "source": [
    "x <- seq(0, 1, by = 0.02) \n",
    "y <- qnorm(x, mean(x), sd(x)) \n",
    "plot(x, y) "
   ]
  },
  {
   "cell_type": "markdown",
   "metadata": {},
   "source": [
    "Normality test in R\n",
    "\n",
    "http://www.sthda.com/english/wiki/normality-test-in-r"
   ]
  },
  {
   "cell_type": "markdown",
   "metadata": {},
   "source": [
    "<h2>3 Inference</h2>\n",
    "<h3>3.1 Study Details</h3>\n",
    "<h4>3.1.1 Simple random sampling, convenience sampling</h4>"
   ]
  },
  {
   "cell_type": "markdown",
   "metadata": {},
   "source": [
    "<i>Random sampling</i>, or <a href=\"https://www.statisticshowto.com/probability-sampling/\">probability sampling</a>, uses random sampling techniques to create a sample.\n",
    "\n",
    "<i>Convenience sampling</i>, a type of <i>non-probability sampling</i>, which uses non-random processes to create a sample (convenience, researcher judgment, etc.).\n",
    "\n",
    "When a sampling unit is drawn from a finite population and is returned to that population, after its characterstics have been recorded, before the next unit is drawn, the sampling is said to be \"with replacement.\" In the contrary case the sampling is \"without replacement.\"\n",
    "\n",
    "<code>sample</code> takes a sample of the specified size from the elements of <code>x</code> either with or without replacement."
   ]
  },
  {
   "cell_type": "code",
   "execution_count": null,
   "metadata": {},
   "outputs": [],
   "source": [
    "x = c(1, 1, 2, 3, 3, 3, 3, 4, 4, 5, 6, 7, 8, 9, 10, 10, 10)\n",
    "s = sample(x, 5, replace = TRUE)\n",
    "s"
   ]
  },
  {
   "cell_type": "code",
   "execution_count": null,
   "metadata": {},
   "outputs": [],
   "source": [
    "for (i in seq(0, 10)) {\n",
    "    s = sample(x, 5, replace = TRUE)\n",
    "    print(s)\n",
    "}"
   ]
  },
  {
   "cell_type": "code",
   "execution_count": null,
   "metadata": {},
   "outputs": [],
   "source": [
    "for (i in seq(0, 10)) {\n",
    "    s = sample(x, 5, replace = FALSE)\n",
    "    print(s)\n",
    "}"
   ]
  },
  {
   "cell_type": "markdown",
   "metadata": {},
   "source": [
    "<h4>3.1.2 Random assignment, completely randomized design, matched pairs design</h4>"
   ]
  },
  {
   "cell_type": "markdown",
   "metadata": {},
   "source": [
    "<i>Random assignment</i> is where study participants are randomly assigned to an experimental group. In a single blind study, the participant does not know whether they are in the experimental group or the control group. In a double blind study, neither the participant nor the researcher knows.\n",
    "\n",
    "A <i>completely randomized design</i> is one where treatments are assigned completely at random so that each experimental unit has the same change of receiving any one treatment."
   ]
  },
  {
   "cell_type": "markdown",
   "metadata": {},
   "source": [
    "A <i>matched pairs design</i> groups subjects into pairs based on some variable they \"match\" on, such as age or gender. The, within each pair, the subjects are randomly assigned to different treatments."
   ]
  },
  {
   "cell_type": "markdown",
   "metadata": {},
   "source": [
    "<code>randomizr</code> can be used to aid in random assignment and design.\n",
    "\n",
    "https://cran.r-project.org/web/packages/randomizr/vignettes/randomizr_vignette.html"
   ]
  },
  {
   "cell_type": "code",
   "execution_count": null,
   "metadata": {},
   "outputs": [],
   "source": [
    "# Load built-in dataset\n",
    "data(HairEyeColor)\n",
    "HairEyeColor <- data.frame(HairEyeColor)\n",
    "\n",
    "HairEyeColor"
   ]
  },
  {
   "cell_type": "code",
   "execution_count": null,
   "metadata": {},
   "outputs": [],
   "source": [
    "hec <- HairEyeColor[rep(1:nrow(HairEyeColor), # rep replicates the values in a vector\n",
    "                        times = HairEyeColor$Freq), 1:3]\n",
    "N <- nrow(hec)\n",
    "rownames(hec) <- NULL\n",
    "hec"
   ]
  },
  {
   "cell_type": "code",
   "execution_count": null,
   "metadata": {},
   "outputs": [],
   "source": [
    "set.seed(343)\n",
    "\n",
    "hec <- within(hec, {\n",
    "  Y0 <- rnorm(n = N,mean = (2*as.numeric(Hair) + -4*as.numeric(Eye) + -6*as.numeric(Sex)), sd = 5)\n",
    "  Y1 <- Y0 + 6*as.numeric(Hair) + 4*as.numeric(Eye) + 2*as.numeric(Sex)\n",
    "})\n",
    "\n",
    "with(hec, mean(Y1 - Y0))"
   ]
  },
  {
   "cell_type": "code",
   "execution_count": null,
   "metadata": {},
   "outputs": [],
   "source": []
  },
  {
   "cell_type": "code",
   "execution_count": null,
   "metadata": {},
   "outputs": [],
   "source": [
    "if (!require(\"randomizr\")) install.packages(\"randomizr\")\n",
    "library(randomizr)\n",
    "Z <- simple_ra(N = N)\n",
    "table(Z)"
   ]
  },
  {
   "cell_type": "code",
   "execution_count": null,
   "metadata": {},
   "outputs": [],
   "source": [
    "Z <- simple_ra(N = N, prob = 0.30)\n",
    "table(Z)"
   ]
  },
  {
   "cell_type": "code",
   "execution_count": null,
   "metadata": {},
   "outputs": [],
   "source": [
    "Z <- simple_ra(N = N, num_arms = 3)\n",
    "table(Z)"
   ]
  },
  {
   "cell_type": "code",
   "execution_count": null,
   "metadata": {},
   "outputs": [],
   "source": [
    "Z <- simple_ra(N = N, prob_each = c(.2, .2, .6),\n",
    "               conditions=c(\"control\", \"placebo\", \"treatment\"))\n",
    "table(Z)"
   ]
  },
  {
   "cell_type": "markdown",
   "metadata": {},
   "source": [
    "<h3>3.2 Estimation</h3>\n",
    "<h4>3.2.1 Sampling distributions and properties of estimators</h4>\n",
    "\n",
    "Using R for Sampling Distributions<br/>\n",
    "http://pages.stat.wisc.edu/~yandell/st571/R/append5.pdf<br/>\n",
    "https://stats.idre.ucla.edu/r/modules/probabilities-and-distributions/\n",
    "\n",
    "Random Sampling and the Distribution of Sample Averages<br/>\n",
    "https://www.econometrics-with-r.org/2-2-RSATDOSA.html"
   ]
  },
  {
   "cell_type": "markdown",
   "metadata": {},
   "source": [
    "<u>Sampling distributions</u>\n",
    "\n",
    "R has many functions that will generate a random sample from common distributions:\n",
    "\n",
    "<ul>\n",
    "    <li>runif</li>\n",
    "    <li>rpois</li>\n",
    "    <li>rmvnorm</li>\n",
    "    <li>rnbinom</li>\n",
    "    <li>rbinom</li>\n",
    "    <li>rbeta</li>\n",
    "    <li>rchisq</li>\n",
    "    <li>rexp</li>\n",
    "    <li>rgamma</li>\n",
    "    <li>rlogis</li>\n",
    "    <li>rstab</li>\n",
    "    <li>rt</li>\n",
    "    <li>rgeom</li>\n",
    "    <li>rhyper</li>\n",
    "    <li>rwilcox</li>\n",
    "    <li>rweibull</li>\n",
    "</ul>"
   ]
  },
  {
   "cell_type": "code",
   "execution_count": null,
   "metadata": {},
   "outputs": [],
   "source": [
    "set.seed(124)\n",
    "norm <- rnorm(100)\n",
    "norm\n",
    "hist(norm, breaks=10)"
   ]
  },
  {
   "cell_type": "code",
   "execution_count": null,
   "metadata": {},
   "outputs": [],
   "source": [
    "norm[1:10]"
   ]
  },
  {
   "cell_type": "code",
   "execution_count": null,
   "metadata": {},
   "outputs": [],
   "source": [
    "sd(norm)"
   ]
  },
  {
   "cell_type": "code",
   "execution_count": null,
   "metadata": {},
   "outputs": [],
   "source": [
    "norm <- rnorm(100, 2, 5)\n",
    "hist(norm)\n",
    "mean(norm)\n",
    "sd(norm)\n"
   ]
  },
  {
   "cell_type": "code",
   "execution_count": null,
   "metadata": {},
   "outputs": [],
   "source": [
    "<u>Sampling from the Poisson distribution</u>"
   ]
  },
  {
   "cell_type": "code",
   "execution_count": null,
   "metadata": {},
   "outputs": [],
   "source": [
    "pois <- rpois(1000, lambda = 10) # why does this generate integers?\n",
    "hist(pois, breaks=10)\n",
    "table(pois)\n",
    "var(pois)"
   ]
  },
  {
   "cell_type": "markdown",
   "metadata": {},
   "source": [
    "<u>Properties of estimators</u>\n",
    "\n",
    "http://www.math.ucsd.edu/~eariasca/R_companion/properties-of-estimators-and-tests.html\n",
    "\n",
    "Should the sample mean or median be used to estimate the parameter?\n",
    "\n",
    "The sample mean is somewhat better than the sample median (in terms of mean squared error).\n",
    "\n",
    "<a href=\"https://en.wikipedia.org/wiki/Mean_squared_error\">Mean squared error</a>"
   ]
  },
  {
   "cell_type": "code",
   "execution_count": 1,
   "metadata": {},
   "outputs": [
    {
     "name": "stdout",
     "output_type": "stream",
     "text": [
      " [1]    2    4    8   16   32   64  128  256  512 1024\n"
     ]
    },
    {
     "data": {
      "image/png": "[encoded data removed]",
      "text/plain": [
       "plot without title"
      ]
     },
     "metadata": {
      "image/png": {
       "height": 420,
       "width": 420
      }
     },
     "output_type": "display_data"
    }
   ],
   "source": [
    "q = 10\n",
    "n_grid = 2^(1:q) # sample sizes\n",
    "print(n_grid, quotes = FALSE)\n",
    "B = 1e3 # replicates\n",
    "mean_error = numeric(q)\n",
    "#print(mean_error)\n",
    "median_error = numeric(q)\n",
    "#print(median_error)\n",
    "for (k in 1:q) {\n",
    "    n = n_grid[k]\n",
    "    mean_out = numeric(B)\n",
    "    median_out = numeric(B)\n",
    "    for (b in 1:B) {\n",
    "        x = rnorm(n) # normal sample\n",
    "        mean_out[b] = mean(x) # sample mean \n",
    "        #print(mean_out[b])\n",
    "        median_out[b] = median(x) # sample median \n",
    "        #print(median_out[b])\n",
    "    }\n",
    "    mean_error[k] = mean(mean_out^2) # MSE for the sample mean ]\n",
    "    #print(mean_error[k])\n",
    "    median_error[k] = mean(median_out^2) # MSE for the sample median\n",
    "    #print(median_error[k])\n",
    "}\n",
    "\n",
    "matplot(n_grid, \n",
    "        cbind(mean_error, median_error), \n",
    "        log = \"xy\", \n",
    "        type = \"b\", \n",
    "        lty = 1, \n",
    "        pch = 15, \n",
    "        lwd = 2, \n",
    "        col = 2:3, \n",
    "        xlab = \"sample size\", \n",
    "        ylab = \"(estimated) mean squared error\")\n",
    "\n",
    "legend(\"topright\", \n",
    "       legend = c(\"sample mean\", \"sample median\"), \n",
    "       lty = 1, \n",
    "       pch = 15, \n",
    "       lwd = 2, \n",
    "       col = 2:3)"
   ]
  },
  {
   "cell_type": "markdown",
   "metadata": {},
   "source": [
    "<h4>3.2.2 Confidence intervals (Single proportion, single mean, two proportions, two means, and paired means)</h4>"
   ]
  },
  {
   "cell_type": "markdown",
   "metadata": {},
   "source": [
    "https://en.wikipedia.org/wiki/Confidence_interval\n",
    "\n",
    "https://rcompanion.org/rcompanion/c_04.html"
   ]
  },
  {
   "cell_type": "code",
   "execution_count": 2,
   "metadata": {},
   "outputs": [],
   "source": [
    "lizard = c(6.2, 6.6, 7.1, 7.4, 7.6, 7.9, 8, 8.3, 8.4, 8.5, 8.6,\n",
    "    + 8.8, 8.8, 9.1, 9.2, 9.4, 9.4, 9.7, 9.9, 10.2, 10.4, 10.8,\n",
    "    + 11.3, 11.9)\n"
   ]
  },
  {
   "cell_type": "code",
   "execution_count": 3,
   "metadata": {},
   "outputs": [
    {
     "data": {
      "text/plain": [
       "\n",
       "\tOne Sample t-test\n",
       "\n",
       "data:  lizard\n",
       "t = 30.477, df = 23, p-value < 2.2e-16\n",
       "alternative hypothesis: true mean is not equal to 0\n",
       "95 percent confidence interval:\n",
       " 8.292017 9.499649\n",
       "sample estimates:\n",
       "mean of x \n",
       " 8.895833 \n"
      ]
     },
     "metadata": {},
     "output_type": "display_data"
    }
   ],
   "source": [
    "t.test(lizard)"
   ]
  },
  {
   "cell_type": "code",
   "execution_count": 4,
   "metadata": {},
   "outputs": [
    {
     "data": {
      "text/plain": [
       "\n",
       "\tOne Sample t-test\n",
       "\n",
       "data:  lizard\n",
       "t = 30.477, df = 23, p-value < 2.2e-16\n",
       "alternative hypothesis: true mean is not equal to 0\n",
       "90 percent confidence interval:\n",
       " 8.395575 9.396092\n",
       "sample estimates:\n",
       "mean of x \n",
       " 8.895833 \n"
      ]
     },
     "metadata": {},
     "output_type": "display_data"
    }
   ],
   "source": [
    "t.test(lizard, conf.level = 0.9)"
   ]
  },
  {
   "cell_type": "markdown",
   "metadata": {},
   "source": [
    "<u>Single proportion</u>\n",
    "\n",
    "You can find the <b>confidence interval</b> (CI) for a population <b>proportion</b> to show the statistical probability that a characteristic (for instance, the mean) is likely to occur within the population, plus or minus a margin or error. The result is called a <b>confidence interval</b> for the population <b>proportion</b>, p."
   ]
  },
  {
   "cell_type": "code",
   "execution_count": 6,
   "metadata": {},
   "outputs": [
    {
     "data": {
      "text/plain": [
       "\n",
       "\tExact binomial test\n",
       "\n",
       "data:  2 and 20\n",
       "number of successes = 2, number of trials = 20, p-value = 0.0004025\n",
       "alternative hypothesis: true probability of success is not equal to 0.5\n",
       "95 percent confidence interval:\n",
       " 0.01234853 0.31698271\n",
       "sample estimates:\n",
       "probability of success \n",
       "                   0.1 \n"
      ]
     },
     "metadata": {},
     "output_type": "display_data"
    }
   ],
   "source": [
    "binom.test(2, 20, 0.5,\n",
    "           alternative=\"two.sided\",\n",
    "           conf.level=0.95)"
   ]
  },
  {
   "cell_type": "code",
   "execution_count": 8,
   "metadata": {},
   "outputs": [
    {
     "data": {
      "text/plain": [
       "\n",
       "\tOne Sample t-test\n",
       "\n",
       "data:  Data$Fish\n",
       "t = 6.5449, df = 8, p-value = 0.0001794\n",
       "alternative hypothesis: true mean is not equal to 0\n",
       "95 percent confidence interval:\n",
       " 45.33665 94.66335\n",
       "sample estimates:\n",
       "mean of x \n",
       "       70 \n"
      ]
     },
     "metadata": {},
     "output_type": "display_data"
    }
   ],
   "source": [
    "Input =(\"\n",
    "Stream                     Fish\n",
    " Mill_Creek_1                76\n",
    " Mill_Creek_2               102\n",
    " North_Branch_Rock_Creek_1   12\n",
    " North_Branch_Rock_Creek_2   39\n",
    " Rock_Creek_1                55\n",
    " Rock_Creek_2                93\n",
    " Rock_Creek_3                98\n",
    " Rock_Creek_4                53\n",
    " Turkey_Branch              102\n",
    "\")\n",
    "\n",
    "Data = read.table(textConnection(Input),header=TRUE)\n",
    "t.test(Data$Fish,\n",
    "       conf.level=0.95)  "
   ]
  },
  {
   "cell_type": "markdown",
   "metadata": {},
   "source": [
    "<u>Two proportions</u>\n",
    "\n",
    "Confidence Intervals for the Difference Between Two Population Proportions or Means<br/>\n",
    "https://online.stat.psu.edu/stat100/lesson/9/9.3"
   ]
  },
  {
   "cell_type": "markdown",
   "metadata": {},
   "source": [
    "https://www.r-tutor.com/elementary-statistics/inference-about-two-populations/population-mean-between-two-independent-samples"
   ]
  },
  {
   "cell_type": "code",
   "execution_count": 19,
   "metadata": {},
   "outputs": [
    {
     "data": {
      "text/html": [
       "<table>\n",
       "<caption>A data.frame: 6 × 5</caption>\n",
       "<thead>\n",
       "\t<tr><th></th><th scope=col>Eth</th><th scope=col>Sex</th><th scope=col>Age</th><th scope=col>Lrn</th><th scope=col>Days</th></tr>\n",
       "\t<tr><th></th><th scope=col>&lt;fct&gt;</th><th scope=col>&lt;fct&gt;</th><th scope=col>&lt;fct&gt;</th><th scope=col>&lt;fct&gt;</th><th scope=col>&lt;int&gt;</th></tr>\n",
       "</thead>\n",
       "<tbody>\n",
       "\t<tr><th scope=row>1</th><td>A</td><td>M</td><td>F0</td><td>SL</td><td> 2</td></tr>\n",
       "\t<tr><th scope=row>2</th><td>A</td><td>M</td><td>F0</td><td>SL</td><td>11</td></tr>\n",
       "\t<tr><th scope=row>3</th><td>A</td><td>M</td><td>F0</td><td>SL</td><td>14</td></tr>\n",
       "\t<tr><th scope=row>4</th><td>A</td><td>M</td><td>F0</td><td>AL</td><td> 5</td></tr>\n",
       "\t<tr><th scope=row>5</th><td>A</td><td>M</td><td>F0</td><td>AL</td><td> 5</td></tr>\n",
       "\t<tr><th scope=row>6</th><td>A</td><td>M</td><td>F0</td><td>AL</td><td>13</td></tr>\n",
       "</tbody>\n",
       "</table>\n"
      ],
      "text/latex": [
       "A data.frame: 6 × 5\n",
       "\\begin{tabular}{r|lllll}\n",
       "  & Eth & Sex & Age & Lrn & Days\\\\\n",
       "  & <fct> & <fct> & <fct> & <fct> & <int>\\\\\n",
       "\\hline\n",
       "\t1 & A & M & F0 & SL &  2\\\\\n",
       "\t2 & A & M & F0 & SL & 11\\\\\n",
       "\t3 & A & M & F0 & SL & 14\\\\\n",
       "\t4 & A & M & F0 & AL &  5\\\\\n",
       "\t5 & A & M & F0 & AL &  5\\\\\n",
       "\t6 & A & M & F0 & AL & 13\\\\\n",
       "\\end{tabular}\n"
      ],
      "text/markdown": [
       "\n",
       "A data.frame: 6 × 5\n",
       "\n",
       "| <!--/--> | Eth &lt;fct&gt; | Sex &lt;fct&gt; | Age &lt;fct&gt; | Lrn &lt;fct&gt; | Days &lt;int&gt; |\n",
       "|---|---|---|---|---|---|\n",
       "| 1 | A | M | F0 | SL |  2 |\n",
       "| 2 | A | M | F0 | SL | 11 |\n",
       "| 3 | A | M | F0 | SL | 14 |\n",
       "| 4 | A | M | F0 | AL |  5 |\n",
       "| 5 | A | M | F0 | AL |  5 |\n",
       "| 6 | A | M | F0 | AL | 13 |\n",
       "\n"
      ],
      "text/plain": [
       "  Eth Sex Age Lrn Days\n",
       "1 A   M   F0  SL   2  \n",
       "2 A   M   F0  SL  11  \n",
       "3 A   M   F0  SL  14  \n",
       "4 A   M   F0  AL   5  \n",
       "5 A   M   F0  AL   5  \n",
       "6 A   M   F0  AL  13  "
      ]
     },
     "metadata": {},
     "output_type": "display_data"
    }
   ],
   "source": [
    "library(MASS) \n",
    "head(quine) "
   ]
  },
  {
   "cell_type": "code",
   "execution_count": 20,
   "metadata": {
    "jupyter": {
     "source_hidden": true
    }
   },
   "outputs": [
    {
     "data": {
      "text/plain": [
       "   \n",
       "     F  M\n",
       "  A 38 31\n",
       "  N 42 35"
      ]
     },
     "metadata": {},
     "output_type": "display_data"
    }
   ],
   "source": [
    "table(quine$Eth, quine$Sex) "
   ]
  },
  {
   "cell_type": "code",
   "execution_count": 21,
   "metadata": {},
   "outputs": [
    {
     "data": {
      "text/plain": [
       "\n",
       "\t2-sample test for equality of proportions without continuity\n",
       "\tcorrection\n",
       "\n",
       "data:  table(quine$Eth, quine$Sex)\n",
       "X-squared = 0.0040803, df = 1, p-value = 0.9491\n",
       "alternative hypothesis: two.sided\n",
       "95 percent confidence interval:\n",
       " -0.1564218  0.1669620\n",
       "sample estimates:\n",
       "   prop 1    prop 2 \n",
       "0.5507246 0.5454545 \n"
      ]
     },
     "metadata": {},
     "output_type": "display_data"
    }
   ],
   "source": [
    "prop.test(table(quine$Eth, quine$Sex), correct=FALSE) "
   ]
  },
  {
   "cell_type": "code",
   "execution_count": 10,
   "metadata": {},
   "outputs": [
    {
     "data": {
      "text/html": [
       "<style>\n",
       ".list-inline {list-style: none; margin:0; padding: 0}\n",
       ".list-inline>li {display: inline-block}\n",
       ".list-inline>li:not(:last-child)::after {content: \"\\00b7\"; padding: 0 .5ex}\n",
       "</style>\n",
       "<ol class=list-inline><li>21</li><li>21</li><li>22.8</li><li>21.4</li><li>18.7</li><li>18.1</li><li>14.3</li><li>24.4</li><li>22.8</li><li>19.2</li><li>17.8</li><li>16.4</li><li>17.3</li><li>15.2</li><li>10.4</li><li>10.4</li><li>14.7</li><li>32.4</li><li>30.4</li><li>33.9</li><li>21.5</li><li>15.5</li><li>15.2</li><li>13.3</li><li>19.2</li><li>27.3</li><li>26</li><li>30.4</li><li>15.8</li><li>19.7</li><li>15</li><li>21.4</li></ol>\n"
      ],
      "text/latex": [
       "\\begin{enumerate*}\n",
       "\\item 21\n",
       "\\item 21\n",
       "\\item 22.8\n",
       "\\item 21.4\n",
       "\\item 18.7\n",
       "\\item 18.1\n",
       "\\item 14.3\n",
       "\\item 24.4\n",
       "\\item 22.8\n",
       "\\item 19.2\n",
       "\\item 17.8\n",
       "\\item 16.4\n",
       "\\item 17.3\n",
       "\\item 15.2\n",
       "\\item 10.4\n",
       "\\item 10.4\n",
       "\\item 14.7\n",
       "\\item 32.4\n",
       "\\item 30.4\n",
       "\\item 33.9\n",
       "\\item 21.5\n",
       "\\item 15.5\n",
       "\\item 15.2\n",
       "\\item 13.3\n",
       "\\item 19.2\n",
       "\\item 27.3\n",
       "\\item 26\n",
       "\\item 30.4\n",
       "\\item 15.8\n",
       "\\item 19.7\n",
       "\\item 15\n",
       "\\item 21.4\n",
       "\\end{enumerate*}\n"
      ],
      "text/markdown": [
       "1. 21\n",
       "2. 21\n",
       "3. 22.8\n",
       "4. 21.4\n",
       "5. 18.7\n",
       "6. 18.1\n",
       "7. 14.3\n",
       "8. 24.4\n",
       "9. 22.8\n",
       "10. 19.2\n",
       "11. 17.8\n",
       "12. 16.4\n",
       "13. 17.3\n",
       "14. 15.2\n",
       "15. 10.4\n",
       "16. 10.4\n",
       "17. 14.7\n",
       "18. 32.4\n",
       "19. 30.4\n",
       "20. 33.9\n",
       "21. 21.5\n",
       "22. 15.5\n",
       "23. 15.2\n",
       "24. 13.3\n",
       "25. 19.2\n",
       "26. 27.3\n",
       "27. 26\n",
       "28. 30.4\n",
       "29. 15.8\n",
       "30. 19.7\n",
       "31. 15\n",
       "32. 21.4\n",
       "\n",
       "\n"
      ],
      "text/plain": [
       " [1] 21.0 21.0 22.8 21.4 18.7 18.1 14.3 24.4 22.8 19.2 17.8 16.4 17.3 15.2 10.4\n",
       "[16] 10.4 14.7 32.4 30.4 33.9 21.5 15.5 15.2 13.3 19.2 27.3 26.0 30.4 15.8 19.7\n",
       "[31] 15.0 21.4"
      ]
     },
     "metadata": {},
     "output_type": "display_data"
    }
   ],
   "source": [
    "mtcars$mpg "
   ]
  },
  {
   "cell_type": "code",
   "execution_count": 11,
   "metadata": {},
   "outputs": [
    {
     "data": {
      "text/html": [
       "<style>\n",
       ".list-inline {list-style: none; margin:0; padding: 0}\n",
       ".list-inline>li {display: inline-block}\n",
       ".list-inline>li:not(:last-child)::after {content: \"\\00b7\"; padding: 0 .5ex}\n",
       "</style>\n",
       "<ol class=list-inline><li>1</li><li>1</li><li>1</li><li>0</li><li>0</li><li>0</li><li>0</li><li>0</li><li>0</li><li>0</li><li>0</li><li>0</li><li>0</li><li>0</li><li>0</li><li>0</li><li>0</li><li>1</li><li>1</li><li>1</li><li>0</li><li>0</li><li>0</li><li>0</li><li>0</li><li>1</li><li>1</li><li>1</li><li>1</li><li>1</li><li>1</li><li>1</li></ol>\n"
      ],
      "text/latex": [
       "\\begin{enumerate*}\n",
       "\\item 1\n",
       "\\item 1\n",
       "\\item 1\n",
       "\\item 0\n",
       "\\item 0\n",
       "\\item 0\n",
       "\\item 0\n",
       "\\item 0\n",
       "\\item 0\n",
       "\\item 0\n",
       "\\item 0\n",
       "\\item 0\n",
       "\\item 0\n",
       "\\item 0\n",
       "\\item 0\n",
       "\\item 0\n",
       "\\item 0\n",
       "\\item 1\n",
       "\\item 1\n",
       "\\item 1\n",
       "\\item 0\n",
       "\\item 0\n",
       "\\item 0\n",
       "\\item 0\n",
       "\\item 0\n",
       "\\item 1\n",
       "\\item 1\n",
       "\\item 1\n",
       "\\item 1\n",
       "\\item 1\n",
       "\\item 1\n",
       "\\item 1\n",
       "\\end{enumerate*}\n"
      ],
      "text/markdown": [
       "1. 1\n",
       "2. 1\n",
       "3. 1\n",
       "4. 0\n",
       "5. 0\n",
       "6. 0\n",
       "7. 0\n",
       "8. 0\n",
       "9. 0\n",
       "10. 0\n",
       "11. 0\n",
       "12. 0\n",
       "13. 0\n",
       "14. 0\n",
       "15. 0\n",
       "16. 0\n",
       "17. 0\n",
       "18. 1\n",
       "19. 1\n",
       "20. 1\n",
       "21. 0\n",
       "22. 0\n",
       "23. 0\n",
       "24. 0\n",
       "25. 0\n",
       "26. 1\n",
       "27. 1\n",
       "28. 1\n",
       "29. 1\n",
       "30. 1\n",
       "31. 1\n",
       "32. 1\n",
       "\n",
       "\n"
      ],
      "text/plain": [
       " [1] 1 1 1 0 0 0 0 0 0 0 0 0 0 0 0 0 0 1 1 1 0 0 0 0 0 1 1 1 1 1 1 1"
      ]
     },
     "metadata": {},
     "output_type": "display_data"
    }
   ],
   "source": [
    "mtcars$am "
   ]
  },
  {
   "cell_type": "code",
   "execution_count": 12,
   "metadata": {},
   "outputs": [
    {
     "data": {
      "text/html": [
       "<style>\n",
       ".list-inline {list-style: none; margin:0; padding: 0}\n",
       ".list-inline>li {display: inline-block}\n",
       ".list-inline>li:not(:last-child)::after {content: \"\\00b7\"; padding: 0 .5ex}\n",
       "</style>\n",
       "<ol class=list-inline><li>21.4</li><li>18.7</li><li>18.1</li><li>14.3</li><li>24.4</li><li>22.8</li><li>19.2</li><li>17.8</li><li>16.4</li><li>17.3</li><li>15.2</li><li>10.4</li><li>10.4</li><li>14.7</li><li>21.5</li><li>15.5</li><li>15.2</li><li>13.3</li><li>19.2</li></ol>\n"
      ],
      "text/latex": [
       "\\begin{enumerate*}\n",
       "\\item 21.4\n",
       "\\item 18.7\n",
       "\\item 18.1\n",
       "\\item 14.3\n",
       "\\item 24.4\n",
       "\\item 22.8\n",
       "\\item 19.2\n",
       "\\item 17.8\n",
       "\\item 16.4\n",
       "\\item 17.3\n",
       "\\item 15.2\n",
       "\\item 10.4\n",
       "\\item 10.4\n",
       "\\item 14.7\n",
       "\\item 21.5\n",
       "\\item 15.5\n",
       "\\item 15.2\n",
       "\\item 13.3\n",
       "\\item 19.2\n",
       "\\end{enumerate*}\n"
      ],
      "text/markdown": [
       "1. 21.4\n",
       "2. 18.7\n",
       "3. 18.1\n",
       "4. 14.3\n",
       "5. 24.4\n",
       "6. 22.8\n",
       "7. 19.2\n",
       "8. 17.8\n",
       "9. 16.4\n",
       "10. 17.3\n",
       "11. 15.2\n",
       "12. 10.4\n",
       "13. 10.4\n",
       "14. 14.7\n",
       "15. 21.5\n",
       "16. 15.5\n",
       "17. 15.2\n",
       "18. 13.3\n",
       "19. 19.2\n",
       "\n",
       "\n"
      ],
      "text/plain": [
       " [1] 21.4 18.7 18.1 14.3 24.4 22.8 19.2 17.8 16.4 17.3 15.2 10.4 10.4 14.7 21.5\n",
       "[16] 15.5 15.2 13.3 19.2"
      ]
     },
     "metadata": {},
     "output_type": "display_data"
    }
   ],
   "source": [
    "L = mtcars$am == 0 \n",
    "mpg.auto = mtcars[L,]$mpg\n",
    "mpg.auto"
   ]
  },
  {
   "cell_type": "code",
   "execution_count": 14,
   "metadata": {},
   "outputs": [
    {
     "data": {
      "text/html": [
       "<style>\n",
       ".list-inline {list-style: none; margin:0; padding: 0}\n",
       ".list-inline>li {display: inline-block}\n",
       ".list-inline>li:not(:last-child)::after {content: \"\\00b7\"; padding: 0 .5ex}\n",
       "</style>\n",
       "<ol class=list-inline><li>21</li><li>21</li><li>22.8</li><li>32.4</li><li>30.4</li><li>33.9</li><li>27.3</li><li>26</li><li>30.4</li><li>15.8</li><li>19.7</li><li>15</li><li>21.4</li></ol>\n"
      ],
      "text/latex": [
       "\\begin{enumerate*}\n",
       "\\item 21\n",
       "\\item 21\n",
       "\\item 22.8\n",
       "\\item 32.4\n",
       "\\item 30.4\n",
       "\\item 33.9\n",
       "\\item 27.3\n",
       "\\item 26\n",
       "\\item 30.4\n",
       "\\item 15.8\n",
       "\\item 19.7\n",
       "\\item 15\n",
       "\\item 21.4\n",
       "\\end{enumerate*}\n"
      ],
      "text/markdown": [
       "1. 21\n",
       "2. 21\n",
       "3. 22.8\n",
       "4. 32.4\n",
       "5. 30.4\n",
       "6. 33.9\n",
       "7. 27.3\n",
       "8. 26\n",
       "9. 30.4\n",
       "10. 15.8\n",
       "11. 19.7\n",
       "12. 15\n",
       "13. 21.4\n",
       "\n",
       "\n"
      ],
      "text/plain": [
       " [1] 21.0 21.0 22.8 32.4 30.4 33.9 27.3 26.0 30.4 15.8 19.7 15.0 21.4"
      ]
     },
     "metadata": {},
     "output_type": "display_data"
    }
   ],
   "source": [
    "mpg.manual = mtcars[!L,]$mpg \n",
    "mpg.manual "
   ]
  },
  {
   "cell_type": "code",
   "execution_count": 15,
   "metadata": {},
   "outputs": [
    {
     "data": {
      "text/plain": [
       "\n",
       "\tWelch Two Sample t-test\n",
       "\n",
       "data:  mpg.auto and mpg.manual\n",
       "t = -3.7671, df = 18.332, p-value = 0.001374\n",
       "alternative hypothesis: true difference in means is not equal to 0\n",
       "95 percent confidence interval:\n",
       " -11.280194  -3.209684\n",
       "sample estimates:\n",
       "mean of x mean of y \n",
       " 17.14737  24.39231 \n"
      ]
     },
     "metadata": {},
     "output_type": "display_data"
    }
   ],
   "source": [
    "t.test(mpg.auto, mpg.manual) "
   ]
  },
  {
   "cell_type": "code",
   "execution_count": 17,
   "metadata": {},
   "outputs": [
    {
     "data": {
      "text/plain": [
       "\n",
       "\tWelch Two Sample t-test\n",
       "\n",
       "data:  mpg by am\n",
       "t = -3.7671, df = 18.332, p-value = 0.001374\n",
       "alternative hypothesis: true difference in means is not equal to 0\n",
       "95 percent confidence interval:\n",
       " -11.280194  -3.209684\n",
       "sample estimates:\n",
       "mean in group 0 mean in group 1 \n",
       "       17.14737        24.39231 \n"
      ]
     },
     "metadata": {},
     "output_type": "display_data"
    }
   ],
   "source": [
    "t.test(mpg ~ am, data=mtcars) "
   ]
  },
  {
   "cell_type": "markdown",
   "metadata": {},
   "source": [
    "<u>Paired means</u>\n",
    "\n",
    "http://www.sthda.com/english/wiki/paired-samples-t-test-in-r"
   ]
  },
  {
   "cell_type": "code",
   "execution_count": null,
   "metadata": {},
   "outputs": [],
   "source": []
  }
 ],
 "metadata": {
  "kernelspec": {
   "display_name": "R",
   "language": "R",
   "name": "ir"
  },
  "language_info": {
   "codemirror_mode": "r",
   "file_extension": ".r",
   "mimetype": "text/x-r-source",
   "name": "R",
   "pygments_lexer": "r",
   "version": "3.6.3"
  }
 },
 "nbformat": 4,
 "nbformat_minor": 4
}
