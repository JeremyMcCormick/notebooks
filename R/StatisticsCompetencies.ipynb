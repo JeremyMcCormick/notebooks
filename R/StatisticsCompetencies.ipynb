{
 "cells": [
  {
   "cell_type": "markdown",
   "metadata": {},
   "source": [
    "<style>\n",
    "ol {\n",
    "    list-style-type: decimal;\n",
    "}\n",
    "</style>\n",
    "\n",
    "<h2>Statistics Competencies</h2>\n",
    "\n",
    "<ol>\n",
    "    <li>Descriptive Statistics</li>\n",
    "    <ol style=\"list-style-type: decimal;\">\n",
    "        <li>Graphical Methods</li>\n",
    "        <ol style=\"list-style-type: decimal;\">\n",
    "            <li>Histograms, dot plots, and boxplots</li>\n",
    "            <li>Bar charts and pie charts</li>\n",
    "        </ol>\n",
    "        <li>Numerical Methods</li>\n",
    "        <ol style=\"list-style-type: decimal;\">\n",
    "            <li>Measures of central tendency: mean, median</li>\n",
    "            <li>Measures of variability: variance, standard deviation, range, interquartile range</li>\n",
    "            <li>Measures of relative standing: standard core, percentiles, quartiles</li>\n",
    "            <li>identifying outliers</li>\n",
    "        </ol>\n",
    "    </ol>\n",
    "    <li>Probability</li>\n",
    "    <ol style=\"list-style-type: decimal;\">\n",
    "        <li>Concepts of independence and conditional probability</li>\n",
    "        <li>The binomial distribution</li>\n",
    "        <li>The normal distribution</li>\n",
    "    </ol>\n",
    "    <li>Inference</li>\n",
    "    <ol style=\"list-style-type: decimal;\">\n",
    "        <li>Study Details</li>\n",
    "        <ol style=\"list-style-type: decimal;\">\n",
    "            <li>Simple random sampling, convenience sampling</li>\n",
    "            <li>Random assignment, completely randomized design, matched pairs design</li>\n",
    "        </ol>\n",
    "        <li>Estimation</li>\n",
    "        <ol style=\"list-style-type: decimal;\">\n",
    "            <li>Sampling distributions and properties of estimators</li>\n",
    "            <li> Confidence intervals (Single proportion, single mean, two proportions, two means, and paired\n",
    "                means)</li>\n",
    "        </ol>\n",
    "        <li>Tests of Hypotheses</li>\n",
    "        <ol style=\"list-style-type: decimal;\">\n",
    "            <li>General Principles: Type I and Type II errors, significance level, power</li>\n",
    "            <li>Tests for single populations (z-test for proportion, t-test for mean)</li>\n",
    "            <li>Test for difference in means</li>\n",
    "            <li>Test for paired difference in means</li>\n",
    "            <li>Analysis of Variance</li>\n",
    "            <li>Chi-squared test of association (independence)</li>\n",
    "            <li>Simple regression (Computation of the least squares regression line, inferences on the slope of the\n",
    "line)</li>\n",
    "            <li>Correlation (Pearson correlation coefficient, coefficient of determination)</li>\n",
    "        </ol>\n",
    "    </ol>\n",
    "</ol>\n",
    "\n",
    "</ol>\n",
    "\n"
   ]
  },
  {
   "cell_type": "markdown",
   "metadata": {},
   "source": [
    "<h2>1. Descriptive Statistics</h2>\n",
    "<h3>1.1 Graphical Methods</h3>\n",
    "<h4>1.1.1 Histograms, dot plots, and boxplots</h4>"
   ]
  },
  {
   "cell_type": "code",
   "execution_count": 17,
   "metadata": {},
   "outputs": [
    {
     "data": {
      "text/html": [
       "<table>\n",
       "<caption>A data.frame: 26 × 5</caption>\n",
       "<thead>\n",
       "\t<tr><th scope=col>Student</th><th scope=col>Sex</th><th scope=col>Teacher</th><th scope=col>Steps</th><th scope=col>Rating</th></tr>\n",
       "\t<tr><th scope=col>&lt;fct&gt;</th><th scope=col>&lt;fct&gt;</th><th scope=col>&lt;fct&gt;</th><th scope=col>&lt;int&gt;</th><th scope=col>&lt;int&gt;</th></tr>\n",
       "</thead>\n",
       "<tbody>\n",
       "\t<tr><td>a</td><td>female</td><td>Catbus </td><td> 8000</td><td> 7</td></tr>\n",
       "\t<tr><td>b</td><td>female</td><td>Catbus </td><td> 9000</td><td>10</td></tr>\n",
       "\t<tr><td>c</td><td>female</td><td>Catbus </td><td>10000</td><td> 9</td></tr>\n",
       "\t<tr><td>d</td><td>female</td><td>Catbus </td><td> 7000</td><td> 5</td></tr>\n",
       "\t<tr><td>e</td><td>female</td><td>Catbus </td><td> 6000</td><td> 4</td></tr>\n",
       "\t<tr><td>f</td><td>female</td><td>Catbus </td><td> 8000</td><td> 8</td></tr>\n",
       "\t<tr><td>g</td><td>male  </td><td>Catbus </td><td> 7000</td><td> 6</td></tr>\n",
       "\t<tr><td>h</td><td>male  </td><td>Catbus </td><td> 5000</td><td> 5</td></tr>\n",
       "\t<tr><td>i</td><td>male  </td><td>Catbus </td><td> 9000</td><td>10</td></tr>\n",
       "\t<tr><td>j</td><td>male  </td><td>Catbus </td><td> 7000</td><td> 8</td></tr>\n",
       "\t<tr><td>k</td><td>female</td><td>Satsuki</td><td> 8000</td><td> 7</td></tr>\n",
       "\t<tr><td>l</td><td>female</td><td>Satsuki</td><td> 9000</td><td> 8</td></tr>\n",
       "\t<tr><td>m</td><td>female</td><td>Satsuki</td><td> 9000</td><td> 8</td></tr>\n",
       "\t<tr><td>n</td><td>female</td><td>Satsuki</td><td> 8000</td><td> 9</td></tr>\n",
       "\t<tr><td>o</td><td>male  </td><td>Satsuki</td><td> 6000</td><td> 5</td></tr>\n",
       "\t<tr><td>p</td><td>male  </td><td>Satsuki</td><td> 8000</td><td> 9</td></tr>\n",
       "\t<tr><td>q</td><td>male  </td><td>Satsuki</td><td> 7000</td><td> 6</td></tr>\n",
       "\t<tr><td>r</td><td>female</td><td>Totoro </td><td>10000</td><td>10</td></tr>\n",
       "\t<tr><td>s</td><td>female</td><td>Totoro </td><td> 9000</td><td>10</td></tr>\n",
       "\t<tr><td>t</td><td>female</td><td>Totoro </td><td> 8000</td><td> 8</td></tr>\n",
       "\t<tr><td>u</td><td>female</td><td>Totoro </td><td> 8000</td><td> 7</td></tr>\n",
       "\t<tr><td>v</td><td>female</td><td>Totoro </td><td> 6000</td><td> 7</td></tr>\n",
       "\t<tr><td>w</td><td>male  </td><td>Totoro </td><td> 6000</td><td> 8</td></tr>\n",
       "\t<tr><td>x</td><td>male  </td><td>Totoro </td><td> 8000</td><td>10</td></tr>\n",
       "\t<tr><td>y</td><td>male  </td><td>Totoro </td><td> 7000</td><td> 7</td></tr>\n",
       "\t<tr><td>z</td><td>male  </td><td>Totoro </td><td> 7000</td><td> 7</td></tr>\n",
       "</tbody>\n",
       "</table>\n"
      ],
      "text/latex": [
       "A data.frame: 26 × 5\n",
       "\\begin{tabular}{lllll}\n",
       " Student & Sex & Teacher & Steps & Rating\\\\\n",
       " <fct> & <fct> & <fct> & <int> & <int>\\\\\n",
       "\\hline\n",
       "\t a & female & Catbus  &  8000 &  7\\\\\n",
       "\t b & female & Catbus  &  9000 & 10\\\\\n",
       "\t c & female & Catbus  & 10000 &  9\\\\\n",
       "\t d & female & Catbus  &  7000 &  5\\\\\n",
       "\t e & female & Catbus  &  6000 &  4\\\\\n",
       "\t f & female & Catbus  &  8000 &  8\\\\\n",
       "\t g & male   & Catbus  &  7000 &  6\\\\\n",
       "\t h & male   & Catbus  &  5000 &  5\\\\\n",
       "\t i & male   & Catbus  &  9000 & 10\\\\\n",
       "\t j & male   & Catbus  &  7000 &  8\\\\\n",
       "\t k & female & Satsuki &  8000 &  7\\\\\n",
       "\t l & female & Satsuki &  9000 &  8\\\\\n",
       "\t m & female & Satsuki &  9000 &  8\\\\\n",
       "\t n & female & Satsuki &  8000 &  9\\\\\n",
       "\t o & male   & Satsuki &  6000 &  5\\\\\n",
       "\t p & male   & Satsuki &  8000 &  9\\\\\n",
       "\t q & male   & Satsuki &  7000 &  6\\\\\n",
       "\t r & female & Totoro  & 10000 & 10\\\\\n",
       "\t s & female & Totoro  &  9000 & 10\\\\\n",
       "\t t & female & Totoro  &  8000 &  8\\\\\n",
       "\t u & female & Totoro  &  8000 &  7\\\\\n",
       "\t v & female & Totoro  &  6000 &  7\\\\\n",
       "\t w & male   & Totoro  &  6000 &  8\\\\\n",
       "\t x & male   & Totoro  &  8000 & 10\\\\\n",
       "\t y & male   & Totoro  &  7000 &  7\\\\\n",
       "\t z & male   & Totoro  &  7000 &  7\\\\\n",
       "\\end{tabular}\n"
      ],
      "text/markdown": [
       "\n",
       "A data.frame: 26 × 5\n",
       "\n",
       "| Student &lt;fct&gt; | Sex &lt;fct&gt; | Teacher &lt;fct&gt; | Steps &lt;int&gt; | Rating &lt;int&gt; |\n",
       "|---|---|---|---|---|\n",
       "| a | female | Catbus  |  8000 |  7 |\n",
       "| b | female | Catbus  |  9000 | 10 |\n",
       "| c | female | Catbus  | 10000 |  9 |\n",
       "| d | female | Catbus  |  7000 |  5 |\n",
       "| e | female | Catbus  |  6000 |  4 |\n",
       "| f | female | Catbus  |  8000 |  8 |\n",
       "| g | male   | Catbus  |  7000 |  6 |\n",
       "| h | male   | Catbus  |  5000 |  5 |\n",
       "| i | male   | Catbus  |  9000 | 10 |\n",
       "| j | male   | Catbus  |  7000 |  8 |\n",
       "| k | female | Satsuki |  8000 |  7 |\n",
       "| l | female | Satsuki |  9000 |  8 |\n",
       "| m | female | Satsuki |  9000 |  8 |\n",
       "| n | female | Satsuki |  8000 |  9 |\n",
       "| o | male   | Satsuki |  6000 |  5 |\n",
       "| p | male   | Satsuki |  8000 |  9 |\n",
       "| q | male   | Satsuki |  7000 |  6 |\n",
       "| r | female | Totoro  | 10000 | 10 |\n",
       "| s | female | Totoro  |  9000 | 10 |\n",
       "| t | female | Totoro  |  8000 |  8 |\n",
       "| u | female | Totoro  |  8000 |  7 |\n",
       "| v | female | Totoro  |  6000 |  7 |\n",
       "| w | male   | Totoro  |  6000 |  8 |\n",
       "| x | male   | Totoro  |  8000 | 10 |\n",
       "| y | male   | Totoro  |  7000 |  7 |\n",
       "| z | male   | Totoro  |  7000 |  7 |\n",
       "\n"
      ],
      "text/plain": [
       "   Student Sex    Teacher Steps Rating\n",
       "1  a       female Catbus   8000  7    \n",
       "2  b       female Catbus   9000 10    \n",
       "3  c       female Catbus  10000  9    \n",
       "4  d       female Catbus   7000  5    \n",
       "5  e       female Catbus   6000  4    \n",
       "6  f       female Catbus   8000  8    \n",
       "7  g       male   Catbus   7000  6    \n",
       "8  h       male   Catbus   5000  5    \n",
       "9  i       male   Catbus   9000 10    \n",
       "10 j       male   Catbus   7000  8    \n",
       "11 k       female Satsuki  8000  7    \n",
       "12 l       female Satsuki  9000  8    \n",
       "13 m       female Satsuki  9000  8    \n",
       "14 n       female Satsuki  8000  9    \n",
       "15 o       male   Satsuki  6000  5    \n",
       "16 p       male   Satsuki  8000  9    \n",
       "17 q       male   Satsuki  7000  6    \n",
       "18 r       female Totoro  10000 10    \n",
       "19 s       female Totoro   9000 10    \n",
       "20 t       female Totoro   8000  8    \n",
       "21 u       female Totoro   8000  7    \n",
       "22 v       female Totoro   6000  7    \n",
       "23 w       male   Totoro   6000  8    \n",
       "24 x       male   Totoro   8000 10    \n",
       "25 y       male   Totoro   7000  7    \n",
       "26 z       male   Totoro   7000  7    "
      ]
     },
     "metadata": {},
     "output_type": "display_data"
    }
   ],
   "source": [
    "Input = (\"\n",
    "Student  Sex     Teacher  Steps  Rating\n",
    "a        female  Catbus    8000   7\n",
    "b        female  Catbus    9000  10\n",
    "c        female  Catbus   10000   9\n",
    "d        female  Catbus    7000   5\n",
    "e        female  Catbus    6000   4\n",
    "f        female  Catbus    8000   8\n",
    "g        male    Catbus    7000   6\n",
    "h        male    Catbus    5000   5\n",
    "i        male    Catbus    9000  10\n",
    "j        male    Catbus    7000   8\n",
    "k        female  Satsuki   8000   7\n",
    "l        female  Satsuki   9000   8\n",
    "m        female  Satsuki   9000   8\n",
    "n        female  Satsuki   8000   9\n",
    "o        male    Satsuki   6000   5\n",
    "p        male    Satsuki   8000   9\n",
    "q        male    Satsuki   7000   6\n",
    "r        female  Totoro   10000  10\n",
    "s        female  Totoro    9000  10\n",
    "t        female  Totoro    8000   8\n",
    "u        female  Totoro    8000   7\n",
    "v        female  Totoro    6000   7\n",
    "w        male    Totoro    6000   8\n",
    "x        male    Totoro    8000  10\n",
    "y        male    Totoro    7000   7\n",
    "z        male    Totoro    7000   7\n",
    "\")\n",
    "\n",
    "Data = read.table(textConnection(Input),header=TRUE)\n",
    "Data"
   ]
  },
  {
   "cell_type": "code",
   "execution_count": 18,
   "metadata": {},
   "outputs": [
    {
     "data": {
      "image/png": "[encoded data removed]",
      "text/plain": [
       "Plot with title “Steps”"
      ]
     },
     "metadata": {
      "image/png": {
       "height": 420,
       "width": 420
      }
     },
     "output_type": "display_data"
    }
   ],
   "source": [
    "hist(Data$Steps, \n",
    "     main=\"Steps\", \n",
    "     xlab=\"Number of Steps\", \n",
    "     border=\"blue\", \n",
    "     col=\"green\", \n",
    "     xlim=c(4000, 11000))\n",
    "#axis(1, col=\"dodgerblue\", col.ticks=\"green\", col.axis=\"orange\")\n"
   ]
  },
  {
   "cell_type": "code",
   "execution_count": 19,
   "metadata": {},
   "outputs": [
    {
     "data": {
      "image/png": "[encoded data removed]",
      "text/plain": [
       "plot without title"
      ]
     },
     "metadata": {
      "image/png": {
       "height": 420,
       "width": 420
      }
     },
     "output_type": "display_data"
    }
   ],
   "source": [
    "plot(Rating ~ jitter(Steps),  # jitter offsets points so you can see them all\n",
    "    data=Data,\n",
    "    pch=16,                   # shape of points\n",
    "    cex=1.0,                  # size of points\n",
    "    col=\"red\",\n",
    "    xlab=\"Steps\",\n",
    "    ylab=\"Rating\")"
   ]
  },
  {
   "cell_type": "code",
   "execution_count": 20,
   "metadata": {},
   "outputs": [
    {
     "data": {
      "image/png": "[encoded data removed]",
      "text/plain": [
       "plot without title"
      ]
     },
     "metadata": {
      "image/png": {
       "height": 420,
       "width": 420
      }
     },
     "output_type": "display_data"
    }
   ],
   "source": [
    "boxplot(Data$Steps, ylab=\"Steps\")"
   ]
  },
  {
   "cell_type": "markdown",
   "metadata": {},
   "source": [
    "<u>Box plot for with means</u>\n",
    "\n",
    "A <a href=\"https://en.wikipedia.org/wiki/Box_plot\">box plot</a> is a method for graphically depicting groups of numerical data through their quartiles."
   ]
  },
  {
   "cell_type": "code",
   "execution_count": 21,
   "metadata": {},
   "outputs": [
    {
     "data": {
      "image/png": "[encoded data removed]",
      "text/plain": [
       "plot without title"
      ]
     },
     "metadata": {
      "image/png": {
       "height": 420,
       "width": 420
      }
     },
     "output_type": "display_data"
    }
   ],
   "source": [
    "M = mean(Data$Steps)\n",
    "boxplot(Data$Steps, ylab=\"Steps\", xlab=\"\")\n",
    "points(M, col=\"red\", pch=\"+\", cex=2)"
   ]
  },
  {
   "cell_type": "markdown",
   "metadata": {},
   "source": [
    "<u>Box plot for one-way data</u>"
   ]
  },
  {
   "cell_type": "code",
   "execution_count": 22,
   "metadata": {},
   "outputs": [
    {
     "data": {
      "image/png": "[encoded data removed]",
      "text/plain": [
       "plot without title"
      ]
     },
     "metadata": {
      "image/png": {
       "height": 420,
       "width": 420
      }
     },
     "output_type": "display_data"
    }
   ],
   "source": [
    "boxplot(Steps ~ Sex, data=Data, ylab=\"Steps\")"
   ]
  },
  {
   "cell_type": "markdown",
   "metadata": {},
   "source": [
    "<u>Box plot for one-way data with means</u>"
   ]
  },
  {
   "cell_type": "code",
   "execution_count": 23,
   "metadata": {},
   "outputs": [
    {
     "data": {
      "image/png": "[encoded data removed]",
      "text/plain": [
       "plot without title"
      ]
     },
     "metadata": {
      "image/png": {
       "height": 420,
       "width": 420
      }
     },
     "output_type": "display_data"
    }
   ],
   "source": [
    "M = tapply(Data$Steps, \n",
    "          INDEX = Data$Sex,\n",
    "          FUN = mean)\n",
    "\n",
    "boxplot(Steps ~ Sex, data=Data, ylab=\"Steps\")\n",
    "\n",
    "points(M, col=\"red\", pch=\"+\", cex=2)"
   ]
  },
  {
   "cell_type": "markdown",
   "metadata": {},
   "source": [
    "<u>Box plot for two-way data</u>"
   ]
  },
  {
   "cell_type": "code",
   "execution_count": 24,
   "metadata": {},
   "outputs": [
    {
     "data": {
      "image/png": "[encoded data removed]",
      "text/plain": [
       "plot without title"
      ]
     },
     "metadata": {
      "image/png": {
       "height": 420,
       "width": 420
      }
     },
     "output_type": "display_data"
    }
   ],
   "source": [
    "boxplot(Steps ~ Sex + Teacher, data=Data, ylab=\"Steps\", cex.axis=0.77)"
   ]
  },
  {
   "cell_type": "markdown",
   "metadata": {},
   "source": [
    "<u>Box plot for tw-way data with means</u>"
   ]
  },
  {
   "cell_type": "code",
   "execution_count": 25,
   "metadata": {},
   "outputs": [
    {
     "data": {
      "image/png": "[encoded data removed]",
      "text/plain": [
       "plot without title"
      ]
     },
     "metadata": {
      "image/png": {
       "height": 420,
       "width": 420
      }
     },
     "output_type": "display_data"
    }
   ],
   "source": [
    "M = tapply(Data$Steps,\n",
    "           INDEX = Data$Teach : Data$Sex,\n",
    "           FUN = mean)\n",
    "\n",
    "boxplot(Steps ~ Sex + Teacher,\n",
    "        data = Data,\n",
    "        ylab = \"Steps\",\n",
    "        cex.axis=0.77)\n",
    "\n",
    "points(M, col=\"red\", pch=\"+\", cex=2)"
   ]
  },
  {
   "cell_type": "markdown",
   "metadata": {},
   "source": [
    "<h4>1.1.2 Bar charts and pie charts<h4>"
   ]
  },
  {
   "cell_type": "markdown",
   "metadata": {},
   "source": [
    "<u>Bar chart for categorical data</u>"
   ]
  },
  {
   "cell_type": "code",
   "execution_count": 26,
   "metadata": {},
   "outputs": [
    {
     "data": {
      "image/png": "[encoded data removed]",
      "text/plain": [
       "plot without title"
      ]
     },
     "metadata": {
      "image/png": {
       "height": 420,
       "width": 420
      }
     },
     "output_type": "display_data"
    }
   ],
   "source": [
    "barplot(table(Data$Sex))"
   ]
  },
  {
   "cell_type": "markdown",
   "metadata": {},
   "source": [
    "<u>Bar chart with counts for continuous data</u>"
   ]
  },
  {
   "cell_type": "code",
   "execution_count": 27,
   "metadata": {},
   "outputs": [
    {
     "data": {
      "image/png": "[encoded data removed]",
      "text/plain": [
       "plot without title"
      ]
     },
     "metadata": {
      "image/png": {
       "height": 420,
       "width": 420
      }
     },
     "output_type": "display_data"
    }
   ],
   "source": [
    "barplot(table(Data$Steps))"
   ]
  },
  {
   "cell_type": "code",
   "execution_count": 28,
   "metadata": {},
   "outputs": [],
   "source": [
    "#ordered_data = Data[order(Data$Steps, decreasing = TRUE),]\n",
    "#tbl <- table(ordered_data$Steps)\n",
    "#tbl[order(as.numeric(names(tbl)))]\n",
    "#tbl\n",
    "#barplot(tbl)\n",
    "#barplot(table(ordered_data$Steps))"
   ]
  },
  {
   "cell_type": "markdown",
   "metadata": {},
   "source": [
    "<u>Stacked bar plot</u>"
   ]
  },
  {
   "cell_type": "code",
   "execution_count": 29,
   "metadata": {},
   "outputs": [
    {
     "data": {
      "image/png": "[encoded data removed]",
      "text/plain": [
       "Plot with title “Teacher by Gender”"
      ]
     },
     "metadata": {
      "image/png": {
       "height": 420,
       "width": 420
      }
     },
     "output_type": "display_data"
    }
   ],
   "source": [
    "counts <- table(Data$Sex, Data$Teacher)\n",
    "barplot(counts, main=\"Teacher by Gender\", col=c(\"darkblue\", \"red\"), legend = rownames(counts))"
   ]
  },
  {
   "cell_type": "markdown",
   "metadata": {},
   "source": [
    "<u>Grouped bar plot</u>"
   ]
  },
  {
   "cell_type": "code",
   "execution_count": 30,
   "metadata": {},
   "outputs": [
    {
     "data": {
      "image/png": "[encoded data removed]",
      "text/plain": [
       "Plot with title “Teacher by Gender”"
      ]
     },
     "metadata": {
      "image/png": {
       "height": 420,
       "width": 420
      }
     },
     "output_type": "display_data"
    }
   ],
   "source": [
    "barplot(counts, main=\"Teacher by Gender\", col=c(\"darkblue\", \"red\"), legend = rownames(counts), beside=TRUE)"
   ]
  },
  {
   "cell_type": "markdown",
   "metadata": {},
   "source": [
    "<u>Pie charts</u>\n",
    "\n",
    "https://www.statmethods.net/graphs/pie.html"
   ]
  },
  {
   "cell_type": "code",
   "execution_count": 31,
   "metadata": {},
   "outputs": [
    {
     "data": {
      "image/png": "[encoded data removed]",
      "text/plain": [
       "Plot with title “Pie Chart of Countries”"
      ]
     },
     "metadata": {
      "image/png": {
       "height": 420,
       "width": 420
      }
     },
     "output_type": "display_data"
    }
   ],
   "source": [
    "slices <- c(10, 12,4, 16, 8)\n",
    "lbls <- c(\"US\", \"UK\", \"Australia\", \"Germany\", \"France\")\n",
    "pie(slices, labels = lbls, main=\"Pie Chart of Countries\")"
   ]
  },
  {
   "cell_type": "markdown",
   "metadata": {},
   "source": [
    "<h3>1.2 Numerical Methods</h3>\n",
    "<h4>1.2.1 Measures of central tendency: mean, median</h4>"
   ]
  },
  {
   "cell_type": "markdown",
   "metadata": {},
   "source": [
    "<u>Mean</u>"
   ]
  },
  {
   "cell_type": "code",
   "execution_count": 32,
   "metadata": {},
   "outputs": [
    {
     "data": {
      "text/html": [
       "7.61538461538461"
      ],
      "text/latex": [
       "7.61538461538461"
      ],
      "text/markdown": [
       "7.61538461538461"
      ],
      "text/plain": [
       "[1] 7.615385"
      ]
     },
     "metadata": {},
     "output_type": "display_data"
    }
   ],
   "source": [
    "mean(Data$Rating)"
   ]
  },
  {
   "cell_type": "markdown",
   "metadata": {},
   "source": [
    "<u>Median</u>"
   ]
  },
  {
   "cell_type": "code",
   "execution_count": 33,
   "metadata": {},
   "outputs": [
    {
     "data": {
      "text/html": [
       "8"
      ],
      "text/latex": [
       "8"
      ],
      "text/markdown": [
       "8"
      ],
      "text/plain": [
       "[1] 8"
      ]
     },
     "metadata": {},
     "output_type": "display_data"
    }
   ],
   "source": [
    "median(Data$Rating)"
   ]
  },
  {
   "cell_type": "markdown",
   "metadata": {},
   "source": [
    "<h4>1.2.2 Measures of variability: variance, standard deviation, range, interquartile range</h4>"
   ]
  },
  {
   "cell_type": "markdown",
   "metadata": {},
   "source": [
    "<u>Variance</u>"
   ]
  },
  {
   "cell_type": "markdown",
   "metadata": {},
   "source": [
    "The <i>variance</i> is a numerical measure of how the data values are dispersed around the mean. \n",
    "\n",
    "The sample variance is defined as:"
   ]
  },
  {
   "cell_type": "markdown",
   "metadata": {},
   "source": [
    "![](files/numerical-measures5x.png)"
   ]
  },
  {
   "cell_type": "code",
   "execution_count": 34,
   "metadata": {},
   "outputs": [
    {
     "data": {
      "text/html": [
       "3.04615384615385"
      ],
      "text/latex": [
       "3.04615384615385"
      ],
      "text/markdown": [
       "3.04615384615385"
      ],
      "text/plain": [
       "[1] 3.046154"
      ]
     },
     "metadata": {},
     "output_type": "display_data"
    }
   ],
   "source": [
    "var(Data$Rating)"
   ]
  },
  {
   "cell_type": "markdown",
   "metadata": {},
   "source": [
    "<u>Standard deviation</u>"
   ]
  },
  {
   "cell_type": "markdown",
   "metadata": {},
   "source": [
    "The <i>standard deviation</i> of an observation variable is the square root of its variance."
   ]
  },
  {
   "cell_type": "code",
   "execution_count": 35,
   "metadata": {},
   "outputs": [
    {
     "data": {
      "text/html": [
       "1.74532342164822"
      ],
      "text/latex": [
       "1.74532342164822"
      ],
      "text/markdown": [
       "1.74532342164822"
      ],
      "text/plain": [
       "[1] 1.745323"
      ]
     },
     "metadata": {},
     "output_type": "display_data"
    }
   ],
   "source": [
    "sd(Data$Rating)"
   ]
  },
  {
   "cell_type": "markdown",
   "metadata": {},
   "source": [
    "<u>Range</u>"
   ]
  },
  {
   "cell_type": "markdown",
   "metadata": {},
   "source": [
    "The <i>range</i> of an observation variable is the difference of its largest and smallest data values. It is a measure of how far apart the entire data spreads in value."
   ]
  },
  {
   "cell_type": "code",
   "execution_count": 36,
   "metadata": {},
   "outputs": [
    {
     "data": {
      "text/html": [
       "6"
      ],
      "text/latex": [
       "6"
      ],
      "text/markdown": [
       "6"
      ],
      "text/plain": [
       "[1] 6"
      ]
     },
     "metadata": {},
     "output_type": "display_data"
    }
   ],
   "source": [
    "max(Data$Rating) - min(Data$Rating)"
   ]
  },
  {
   "cell_type": "markdown",
   "metadata": {},
   "source": [
    "<u>Interquartile range</u>\n",
    "\n",
    "The <i>interquartile range</i> of an observation variable is the difference of its upper and lower quartiles. It is a measure of how far apart the middle portion of data spreads in value."
   ]
  },
  {
   "cell_type": "code",
   "execution_count": 37,
   "metadata": {},
   "outputs": [
    {
     "data": {
      "text/html": [
       "2"
      ],
      "text/latex": [
       "2"
      ],
      "text/markdown": [
       "2"
      ],
      "text/plain": [
       "[1] 2"
      ]
     },
     "metadata": {},
     "output_type": "display_data"
    }
   ],
   "source": [
    "IQR(Data$Rating)"
   ]
  },
  {
   "cell_type": "markdown",
   "metadata": {},
   "source": [
    "<h4>1.2.3 Measures of relative standing: standard core, percentiles, quartiles</h4>"
   ]
  },
  {
   "cell_type": "markdown",
   "metadata": {},
   "source": [
    "The nth percentile of an observation variable is the value that cuts off the first n percent of the data values when it is sorted in ascending order."
   ]
  },
  {
   "cell_type": "code",
   "execution_count": 38,
   "metadata": {},
   "outputs": [
    {
     "data": {
      "text/html": [
       "<style>\n",
       ".dl-inline {width: auto; margin:0; padding: 0}\n",
       ".dl-inline>dt, .dl-inline>dd {float: none; width: auto; display: inline-block}\n",
       ".dl-inline>dt::after {content: \":\\0020\"; padding-right: .5ex}\n",
       ".dl-inline>dt:not(:first-of-type) {padding-left: .5ex}\n",
       "</style><dl class=dl-inline><dt>25%</dt><dd>7</dd><dt>50%</dt><dd>8</dd><dt>75%</dt><dd>9</dd></dl>\n"
      ],
      "text/latex": [
       "\\begin{description*}\n",
       "\\item[25\\textbackslash{}\\%] 7\n",
       "\\item[50\\textbackslash{}\\%] 8\n",
       "\\item[75\\textbackslash{}\\%] 9\n",
       "\\end{description*}\n"
      ],
      "text/markdown": [
       "25%\n",
       ":   750%\n",
       ":   875%\n",
       ":   9\n",
       "\n"
      ],
      "text/plain": [
       "25% 50% 75% \n",
       "  7   8   9 "
      ]
     },
     "metadata": {},
     "output_type": "display_data"
    }
   ],
   "source": [
    "quantile(Data$Rating, c(.25, .5, .75))"
   ]
  },
  {
   "cell_type": "markdown",
   "metadata": {},
   "source": [
    "<h4>1.2.4 Identifying Outliers</h4>"
   ]
  },
  {
   "cell_type": "markdown",
   "metadata": {},
   "source": [
    "This webpage provides comprehensive information on identifying outliers in R:\n",
    "\n",
    "https://www.statsandr.com/blog/outliers-detection-in-r/"
   ]
  },
  {
   "cell_type": "markdown",
   "metadata": {},
   "source": [
    "<u>Introduction</u>\n",
    "\n",
    "An <i>outlier</i> is a value or an observation that is distance from other observations, that is to say, a data point that differs significantly from other data points."
   ]
  },
  {
   "cell_type": "markdown",
   "metadata": {},
   "source": [
    "Outliers may arise from inherent variability of the observed phenomenon (extreme values) or errors (mistakes)."
   ]
  },
  {
   "cell_type": "markdown",
   "metadata": {},
   "source": [
    "Considerations in removing outliers:\n",
    "\n",
    "<ol>\n",
    "    <li>The domain/context of the analyses and the research question. Sometimes may be removed as they indicate a malfunctioning process or might be kept because they contain valuable information. Analyses may be performed twice, once with and once without outliers to evaluate their impact on the conclusions. If results change drastically due to some influential values, this should caution the research to make overambitious claims.</li>\n",
    "    <li>Whether the tests you will perform are robust to the presence of outliers or not. For instance, the slope of a simple linear regression may significantly vary with just one outlier, whereas non-parametric tests such as the <i>Wilcoxon test</i> are usually robust to outliers.\n",
    "     <li>How distant are the outliers from other observations? Some observations considered as outliers are actually not really extreme compared to all other observations, while other potential outliers may be really distant from the rest of the observations</li>\n",
    "</ol>"
   ]
  },
  {
   "cell_type": "markdown",
   "metadata": {},
   "source": [
    "<u>Maximum and Minimum</u>"
   ]
  },
  {
   "cell_type": "code",
   "execution_count": 39,
   "metadata": {},
   "outputs": [
    {
     "data": {
      "text/plain": [
       "   Min. 1st Qu.  Median    Mean 3rd Qu.    Max. \n",
       "  12.00   18.00   24.00   23.44   27.00   44.00 "
      ]
     },
     "metadata": {},
     "output_type": "display_data"
    }
   ],
   "source": [
    "dat <- ggplot2::mpg\n",
    "summary(dat$hwy)"
   ]
  },
  {
   "cell_type": "code",
   "execution_count": 40,
   "metadata": {},
   "outputs": [
    {
     "data": {
      "text/html": [
       "12"
      ],
      "text/latex": [
       "12"
      ],
      "text/markdown": [
       "12"
      ],
      "text/plain": [
       "[1] 12"
      ]
     },
     "metadata": {},
     "output_type": "display_data"
    },
    {
     "data": {
      "text/html": [
       "44"
      ],
      "text/latex": [
       "44"
      ],
      "text/markdown": [
       "44"
      ],
      "text/plain": [
       "[1] 44"
      ]
     },
     "metadata": {},
     "output_type": "display_data"
    }
   ],
   "source": [
    "min(dat$hwy)\n",
    "max(dat$hwy)"
   ]
  },
  {
   "cell_type": "markdown",
   "metadata": {},
   "source": [
    "<u>Histogram</u>"
   ]
  },
  {
   "cell_type": "code",
   "execution_count": 41,
   "metadata": {},
   "outputs": [
    {
     "data": {
      "image/png": "[encoded data removed]",
      "text/plain": [
       "Plot with title “Histogram of hwy”"
      ]
     },
     "metadata": {
      "image/png": {
       "height": 420,
       "width": 420
      }
     },
     "output_type": "display_data"
    }
   ],
   "source": [
    "hist(dat$hwy, xlab=\"hwy\", main=\"Histogram of hwy\", breaks=sqrt(nrow(dat)))"
   ]
  },
  {
   "cell_type": "markdown",
   "metadata": {},
   "source": [
    "<u>IQR criterion</u>"
   ]
  },
  {
   "cell_type": "markdown",
   "metadata": {},
   "source": [
    "The IQR criterion means that all observations above ![](files/iqr_below.png) and below ![](files/iqr_above.png) are considered as potential outliers by R. nIn other words, all observations outside of the following interval will be considered as potential outliers:\n",
    "\n",
    "![](files/outliers.png)"
   ]
  },
  {
   "cell_type": "code",
   "execution_count": 42,
   "metadata": {},
   "outputs": [
    {
     "name": "stdout",
     "output_type": "stream",
     "text": [
      "[1] outlier low:  4.5\n",
      "[1] outlier high:  40.5\n"
     ]
    }
   ],
   "source": [
    "hwy_iqr = IQR(dat$hwy)\n",
    "hwy_quart = quantile(dat$hwy, c(.25, .75))\n",
    "hwy_q25 = unname(hwy_quart)[1]\n",
    "hwy_q75 = unname(hwy_quart)[2]\n",
    "\n",
    "outlier_low = hwy_q25 - (1.5 * hwy_iqr)\n",
    "outlier_high = hwy_q75 + (1.5 * hwy_iqr)\n",
    "print(paste(\"outlier low: \", outlier_low), quote = FALSE)\n",
    "print(paste(\"outlier high: \", outlier_high), quote = FALSE)"
   ]
  },
  {
   "cell_type": "code",
   "execution_count": 43,
   "metadata": {},
   "outputs": [
    {
     "data": {
      "text/html": [
       "<style>\n",
       ".list-inline {list-style: none; margin:0; padding: 0}\n",
       ".list-inline>li {display: inline-block}\n",
       ".list-inline>li:not(:last-child)::after {content: \"\\00b7\"; padding: 0 .5ex}\n",
       "</style>\n",
       "<ol class=list-inline><li>44</li><li>44</li><li>41</li></ol>\n"
      ],
      "text/latex": [
       "\\begin{enumerate*}\n",
       "\\item 44\n",
       "\\item 44\n",
       "\\item 41\n",
       "\\end{enumerate*}\n"
      ],
      "text/markdown": [
       "1. 44\n",
       "2. 44\n",
       "3. 41\n",
       "\n",
       "\n"
      ],
      "text/plain": [
       "[1] 44 44 41"
      ]
     },
     "metadata": {},
     "output_type": "display_data"
    },
    {
     "data": {
      "text/html": [
       "<style>\n",
       ".list-inline {list-style: none; margin:0; padding: 0}\n",
       ".list-inline>li {display: inline-block}\n",
       ".list-inline>li:not(:last-child)::after {content: \"\\00b7\"; padding: 0 .5ex}\n",
       "</style>\n",
       "<ol class=list-inline><li>44</li><li>44</li><li>41</li></ol>\n"
      ],
      "text/latex": [
       "\\begin{enumerate*}\n",
       "\\item 44\n",
       "\\item 44\n",
       "\\item 41\n",
       "\\end{enumerate*}\n"
      ],
      "text/markdown": [
       "1. 44\n",
       "2. 44\n",
       "3. 41\n",
       "\n",
       "\n"
      ],
      "text/plain": [
       "[1] 44 44 41"
      ]
     },
     "metadata": {},
     "output_type": "display_data"
    }
   ],
   "source": [
    "# select values from data frame to find outliers\n",
    "hwy_outliers1 = dat[which(dat$hwy < outlier_low | dat$hwy > outlier_high), ]\n",
    "hwy_outliers1$hwy\n",
    "\n",
    "# use subset function to find outliers\n",
    "hwy_outliers2 = subset(dat, hwy < outlier_low | hwy > outlier_high)\n",
    "hwy_outliers2$hwy"
   ]
  },
  {
   "cell_type": "markdown",
   "metadata": {},
   "source": [
    "<u>Percentiles</u>\n",
    "\n",
    "With the percentiles method, all observations that lie outside the interval formed by the 2.5 and 97.5 percentiles will be considered as potential outliers. Other percentiles such as the 1 and 99, or the 5 and 95 percentiles can also be considered to construct the interval."
   ]
  },
  {
   "cell_type": "code",
   "execution_count": 44,
   "metadata": {},
   "outputs": [
    {
     "data": {
      "text/html": [
       "<strong>2.5%:</strong> 14"
      ],
      "text/latex": [
       "\\textbf{2.5\\textbackslash{}\\%:} 14"
      ],
      "text/markdown": [
       "**2.5%:** 14"
      ],
      "text/plain": [
       "2.5% \n",
       "  14 "
      ]
     },
     "metadata": {},
     "output_type": "display_data"
    },
    {
     "data": {
      "text/html": [
       "<strong>97.5%:</strong> 35.175"
      ],
      "text/latex": [
       "\\textbf{97.5\\textbackslash{}\\%:} 35.175"
      ],
      "text/markdown": [
       "**97.5%:** 35.175"
      ],
      "text/plain": [
       " 97.5% \n",
       "35.175 "
      ]
     },
     "metadata": {},
     "output_type": "display_data"
    },
    {
     "data": {
      "text/html": [
       "<table>\n",
       "<caption>A tibble: 11 × 1</caption>\n",
       "<thead>\n",
       "\t<tr><th scope=col>hwy</th></tr>\n",
       "\t<tr><th scope=col>&lt;int&gt;</th></tr>\n",
       "</thead>\n",
       "<tbody>\n",
       "\t<tr><td>12</td></tr>\n",
       "\t<tr><td>12</td></tr>\n",
       "\t<tr><td>12</td></tr>\n",
       "\t<tr><td>12</td></tr>\n",
       "\t<tr><td>36</td></tr>\n",
       "\t<tr><td>36</td></tr>\n",
       "\t<tr><td>12</td></tr>\n",
       "\t<tr><td>37</td></tr>\n",
       "\t<tr><td>44</td></tr>\n",
       "\t<tr><td>44</td></tr>\n",
       "\t<tr><td>41</td></tr>\n",
       "</tbody>\n",
       "</table>\n"
      ],
      "text/latex": [
       "A tibble: 11 × 1\n",
       "\\begin{tabular}{l}\n",
       " hwy\\\\\n",
       " <int>\\\\\n",
       "\\hline\n",
       "\t 12\\\\\n",
       "\t 12\\\\\n",
       "\t 12\\\\\n",
       "\t 12\\\\\n",
       "\t 36\\\\\n",
       "\t 36\\\\\n",
       "\t 12\\\\\n",
       "\t 37\\\\\n",
       "\t 44\\\\\n",
       "\t 44\\\\\n",
       "\t 41\\\\\n",
       "\\end{tabular}\n"
      ],
      "text/markdown": [
       "\n",
       "A tibble: 11 × 1\n",
       "\n",
       "| hwy &lt;int&gt; |\n",
       "|---|\n",
       "| 12 |\n",
       "| 12 |\n",
       "| 12 |\n",
       "| 12 |\n",
       "| 36 |\n",
       "| 36 |\n",
       "| 12 |\n",
       "| 37 |\n",
       "| 44 |\n",
       "| 44 |\n",
       "| 41 |\n",
       "\n"
      ],
      "text/plain": [
       "   hwy\n",
       "1  12 \n",
       "2  12 \n",
       "3  12 \n",
       "4  12 \n",
       "5  36 \n",
       "6  36 \n",
       "7  12 \n",
       "8  37 \n",
       "9  44 \n",
       "10 44 \n",
       "11 41 "
      ]
     },
     "metadata": {},
     "output_type": "display_data"
    }
   ],
   "source": [
    "lower_bound <- quantile(dat$hwy, 0.025)\n",
    "upper_bound <- quantile(dat$hwy, 0.975)\n",
    "outlier_ind <- which(dat$hwy < lower_bound | dat$hwy > upper_bound)\n",
    "lower_bound\n",
    "upper_bound\n",
    "#sort(outlier_ind)\n",
    "dat[outlier_ind, \"hwy\"]"
   ]
  },
  {
   "cell_type": "code",
   "execution_count": 45,
   "metadata": {},
   "outputs": [
    {
     "data": {
      "text/html": [
       "<table>\n",
       "<caption>A tibble: 11 × 11</caption>\n",
       "<thead>\n",
       "\t<tr><th scope=col>manufacturer</th><th scope=col>model</th><th scope=col>displ</th><th scope=col>year</th><th scope=col>cyl</th><th scope=col>trans</th><th scope=col>drv</th><th scope=col>cty</th><th scope=col>hwy</th><th scope=col>fl</th><th scope=col>class</th></tr>\n",
       "\t<tr><th scope=col>&lt;chr&gt;</th><th scope=col>&lt;chr&gt;</th><th scope=col>&lt;dbl&gt;</th><th scope=col>&lt;int&gt;</th><th scope=col>&lt;int&gt;</th><th scope=col>&lt;chr&gt;</th><th scope=col>&lt;chr&gt;</th><th scope=col>&lt;int&gt;</th><th scope=col>&lt;int&gt;</th><th scope=col>&lt;chr&gt;</th><th scope=col>&lt;chr&gt;</th></tr>\n",
       "</thead>\n",
       "<tbody>\n",
       "\t<tr><td>dodge     </td><td>dakota pickup 4wd  </td><td>4.7</td><td>2008</td><td>8</td><td>auto(l5)  </td><td>4</td><td> 9</td><td>12</td><td>e</td><td>pickup    </td></tr>\n",
       "\t<tr><td>dodge     </td><td>durango 4wd        </td><td>4.7</td><td>2008</td><td>8</td><td>auto(l5)  </td><td>4</td><td> 9</td><td>12</td><td>e</td><td>suv       </td></tr>\n",
       "\t<tr><td>dodge     </td><td>ram 1500 pickup 4wd</td><td>4.7</td><td>2008</td><td>8</td><td>auto(l5)  </td><td>4</td><td> 9</td><td>12</td><td>e</td><td>pickup    </td></tr>\n",
       "\t<tr><td>dodge     </td><td>ram 1500 pickup 4wd</td><td>4.7</td><td>2008</td><td>8</td><td>manual(m6)</td><td>4</td><td> 9</td><td>12</td><td>e</td><td>pickup    </td></tr>\n",
       "\t<tr><td>honda     </td><td>civic              </td><td>1.8</td><td>2008</td><td>4</td><td>auto(l5)  </td><td>f</td><td>25</td><td>36</td><td>r</td><td>subcompact</td></tr>\n",
       "\t<tr><td>honda     </td><td>civic              </td><td>1.8</td><td>2008</td><td>4</td><td>auto(l5)  </td><td>f</td><td>24</td><td>36</td><td>c</td><td>subcompact</td></tr>\n",
       "\t<tr><td>jeep      </td><td>grand cherokee 4wd </td><td>4.7</td><td>2008</td><td>8</td><td>auto(l5)  </td><td>4</td><td> 9</td><td>12</td><td>e</td><td>suv       </td></tr>\n",
       "\t<tr><td>toyota    </td><td>corolla            </td><td>1.8</td><td>2008</td><td>4</td><td>manual(m5)</td><td>f</td><td>28</td><td>37</td><td>r</td><td>compact   </td></tr>\n",
       "\t<tr><td>volkswagen</td><td>jetta              </td><td>1.9</td><td>1999</td><td>4</td><td>manual(m5)</td><td>f</td><td>33</td><td>44</td><td>d</td><td>compact   </td></tr>\n",
       "\t<tr><td>volkswagen</td><td>new beetle         </td><td>1.9</td><td>1999</td><td>4</td><td>manual(m5)</td><td>f</td><td>35</td><td>44</td><td>d</td><td>subcompact</td></tr>\n",
       "\t<tr><td>volkswagen</td><td>new beetle         </td><td>1.9</td><td>1999</td><td>4</td><td>auto(l4)  </td><td>f</td><td>29</td><td>41</td><td>d</td><td>subcompact</td></tr>\n",
       "</tbody>\n",
       "</table>\n"
      ],
      "text/latex": [
       "A tibble: 11 × 11\n",
       "\\begin{tabular}{lllllllllll}\n",
       " manufacturer & model & displ & year & cyl & trans & drv & cty & hwy & fl & class\\\\\n",
       " <chr> & <chr> & <dbl> & <int> & <int> & <chr> & <chr> & <int> & <int> & <chr> & <chr>\\\\\n",
       "\\hline\n",
       "\t dodge      & dakota pickup 4wd   & 4.7 & 2008 & 8 & auto(l5)   & 4 &  9 & 12 & e & pickup    \\\\\n",
       "\t dodge      & durango 4wd         & 4.7 & 2008 & 8 & auto(l5)   & 4 &  9 & 12 & e & suv       \\\\\n",
       "\t dodge      & ram 1500 pickup 4wd & 4.7 & 2008 & 8 & auto(l5)   & 4 &  9 & 12 & e & pickup    \\\\\n",
       "\t dodge      & ram 1500 pickup 4wd & 4.7 & 2008 & 8 & manual(m6) & 4 &  9 & 12 & e & pickup    \\\\\n",
       "\t honda      & civic               & 1.8 & 2008 & 4 & auto(l5)   & f & 25 & 36 & r & subcompact\\\\\n",
       "\t honda      & civic               & 1.8 & 2008 & 4 & auto(l5)   & f & 24 & 36 & c & subcompact\\\\\n",
       "\t jeep       & grand cherokee 4wd  & 4.7 & 2008 & 8 & auto(l5)   & 4 &  9 & 12 & e & suv       \\\\\n",
       "\t toyota     & corolla             & 1.8 & 2008 & 4 & manual(m5) & f & 28 & 37 & r & compact   \\\\\n",
       "\t volkswagen & jetta               & 1.9 & 1999 & 4 & manual(m5) & f & 33 & 44 & d & compact   \\\\\n",
       "\t volkswagen & new beetle          & 1.9 & 1999 & 4 & manual(m5) & f & 35 & 44 & d & subcompact\\\\\n",
       "\t volkswagen & new beetle          & 1.9 & 1999 & 4 & auto(l4)   & f & 29 & 41 & d & subcompact\\\\\n",
       "\\end{tabular}\n"
      ],
      "text/markdown": [
       "\n",
       "A tibble: 11 × 11\n",
       "\n",
       "| manufacturer &lt;chr&gt; | model &lt;chr&gt; | displ &lt;dbl&gt; | year &lt;int&gt; | cyl &lt;int&gt; | trans &lt;chr&gt; | drv &lt;chr&gt; | cty &lt;int&gt; | hwy &lt;int&gt; | fl &lt;chr&gt; | class &lt;chr&gt; |\n",
       "|---|---|---|---|---|---|---|---|---|---|---|\n",
       "| dodge      | dakota pickup 4wd   | 4.7 | 2008 | 8 | auto(l5)   | 4 |  9 | 12 | e | pickup     |\n",
       "| dodge      | durango 4wd         | 4.7 | 2008 | 8 | auto(l5)   | 4 |  9 | 12 | e | suv        |\n",
       "| dodge      | ram 1500 pickup 4wd | 4.7 | 2008 | 8 | auto(l5)   | 4 |  9 | 12 | e | pickup     |\n",
       "| dodge      | ram 1500 pickup 4wd | 4.7 | 2008 | 8 | manual(m6) | 4 |  9 | 12 | e | pickup     |\n",
       "| honda      | civic               | 1.8 | 2008 | 4 | auto(l5)   | f | 25 | 36 | r | subcompact |\n",
       "| honda      | civic               | 1.8 | 2008 | 4 | auto(l5)   | f | 24 | 36 | c | subcompact |\n",
       "| jeep       | grand cherokee 4wd  | 4.7 | 2008 | 8 | auto(l5)   | 4 |  9 | 12 | e | suv        |\n",
       "| toyota     | corolla             | 1.8 | 2008 | 4 | manual(m5) | f | 28 | 37 | r | compact    |\n",
       "| volkswagen | jetta               | 1.9 | 1999 | 4 | manual(m5) | f | 33 | 44 | d | compact    |\n",
       "| volkswagen | new beetle          | 1.9 | 1999 | 4 | manual(m5) | f | 35 | 44 | d | subcompact |\n",
       "| volkswagen | new beetle          | 1.9 | 1999 | 4 | auto(l4)   | f | 29 | 41 | d | subcompact |\n",
       "\n"
      ],
      "text/plain": [
       "   manufacturer model               displ year cyl trans      drv cty hwy fl\n",
       "1  dodge        dakota pickup 4wd   4.7   2008 8   auto(l5)   4    9  12  e \n",
       "2  dodge        durango 4wd         4.7   2008 8   auto(l5)   4    9  12  e \n",
       "3  dodge        ram 1500 pickup 4wd 4.7   2008 8   auto(l5)   4    9  12  e \n",
       "4  dodge        ram 1500 pickup 4wd 4.7   2008 8   manual(m6) 4    9  12  e \n",
       "5  honda        civic               1.8   2008 4   auto(l5)   f   25  36  r \n",
       "6  honda        civic               1.8   2008 4   auto(l5)   f   24  36  c \n",
       "7  jeep         grand cherokee 4wd  4.7   2008 8   auto(l5)   4    9  12  e \n",
       "8  toyota       corolla             1.8   2008 4   manual(m5) f   28  37  r \n",
       "9  volkswagen   jetta               1.9   1999 4   manual(m5) f   33  44  d \n",
       "10 volkswagen   new beetle          1.9   1999 4   manual(m5) f   35  44  d \n",
       "11 volkswagen   new beetle          1.9   1999 4   auto(l4)   f   29  41  d \n",
       "   class     \n",
       "1  pickup    \n",
       "2  suv       \n",
       "3  pickup    \n",
       "4  pickup    \n",
       "5  subcompact\n",
       "6  subcompact\n",
       "7  suv       \n",
       "8  compact   \n",
       "9  compact   \n",
       "10 subcompact\n",
       "11 subcompact"
      ]
     },
     "metadata": {},
     "output_type": "display_data"
    }
   ],
   "source": [
    "dat[outlier_ind, ]"
   ]
  },
  {
   "cell_type": "code",
   "execution_count": 46,
   "metadata": {},
   "outputs": [
    {
     "data": {
      "text/html": [
       "<strong>1%:</strong> 12"
      ],
      "text/latex": [
       "\\textbf{1\\textbackslash{}\\%:} 12"
      ],
      "text/markdown": [
       "**1%:** 12"
      ],
      "text/plain": [
       "1% \n",
       "12 "
      ]
     },
     "metadata": {},
     "output_type": "display_data"
    },
    {
     "data": {
      "text/html": [
       "<strong>99%:</strong> 39.68"
      ],
      "text/latex": [
       "\\textbf{99\\textbackslash{}\\%:} 39.68"
      ],
      "text/markdown": [
       "**99%:** 39.68"
      ],
      "text/plain": [
       "  99% \n",
       "39.68 "
      ]
     },
     "metadata": {},
     "output_type": "display_data"
    },
    {
     "data": {
      "text/html": [
       "<table>\n",
       "<caption>A tibble: 3 × 11</caption>\n",
       "<thead>\n",
       "\t<tr><th scope=col>manufacturer</th><th scope=col>model</th><th scope=col>displ</th><th scope=col>year</th><th scope=col>cyl</th><th scope=col>trans</th><th scope=col>drv</th><th scope=col>cty</th><th scope=col>hwy</th><th scope=col>fl</th><th scope=col>class</th></tr>\n",
       "\t<tr><th scope=col>&lt;chr&gt;</th><th scope=col>&lt;chr&gt;</th><th scope=col>&lt;dbl&gt;</th><th scope=col>&lt;int&gt;</th><th scope=col>&lt;int&gt;</th><th scope=col>&lt;chr&gt;</th><th scope=col>&lt;chr&gt;</th><th scope=col>&lt;int&gt;</th><th scope=col>&lt;int&gt;</th><th scope=col>&lt;chr&gt;</th><th scope=col>&lt;chr&gt;</th></tr>\n",
       "</thead>\n",
       "<tbody>\n",
       "\t<tr><td>volkswagen</td><td>jetta     </td><td>1.9</td><td>1999</td><td>4</td><td>manual(m5)</td><td>f</td><td>33</td><td>44</td><td>d</td><td>compact   </td></tr>\n",
       "\t<tr><td>volkswagen</td><td>new beetle</td><td>1.9</td><td>1999</td><td>4</td><td>manual(m5)</td><td>f</td><td>35</td><td>44</td><td>d</td><td>subcompact</td></tr>\n",
       "\t<tr><td>volkswagen</td><td>new beetle</td><td>1.9</td><td>1999</td><td>4</td><td>auto(l4)  </td><td>f</td><td>29</td><td>41</td><td>d</td><td>subcompact</td></tr>\n",
       "</tbody>\n",
       "</table>\n"
      ],
      "text/latex": [
       "A tibble: 3 × 11\n",
       "\\begin{tabular}{lllllllllll}\n",
       " manufacturer & model & displ & year & cyl & trans & drv & cty & hwy & fl & class\\\\\n",
       " <chr> & <chr> & <dbl> & <int> & <int> & <chr> & <chr> & <int> & <int> & <chr> & <chr>\\\\\n",
       "\\hline\n",
       "\t volkswagen & jetta      & 1.9 & 1999 & 4 & manual(m5) & f & 33 & 44 & d & compact   \\\\\n",
       "\t volkswagen & new beetle & 1.9 & 1999 & 4 & manual(m5) & f & 35 & 44 & d & subcompact\\\\\n",
       "\t volkswagen & new beetle & 1.9 & 1999 & 4 & auto(l4)   & f & 29 & 41 & d & subcompact\\\\\n",
       "\\end{tabular}\n"
      ],
      "text/markdown": [
       "\n",
       "A tibble: 3 × 11\n",
       "\n",
       "| manufacturer &lt;chr&gt; | model &lt;chr&gt; | displ &lt;dbl&gt; | year &lt;int&gt; | cyl &lt;int&gt; | trans &lt;chr&gt; | drv &lt;chr&gt; | cty &lt;int&gt; | hwy &lt;int&gt; | fl &lt;chr&gt; | class &lt;chr&gt; |\n",
       "|---|---|---|---|---|---|---|---|---|---|---|\n",
       "| volkswagen | jetta      | 1.9 | 1999 | 4 | manual(m5) | f | 33 | 44 | d | compact    |\n",
       "| volkswagen | new beetle | 1.9 | 1999 | 4 | manual(m5) | f | 35 | 44 | d | subcompact |\n",
       "| volkswagen | new beetle | 1.9 | 1999 | 4 | auto(l4)   | f | 29 | 41 | d | subcompact |\n",
       "\n"
      ],
      "text/plain": [
       "  manufacturer model      displ year cyl trans      drv cty hwy fl class     \n",
       "1 volkswagen   jetta      1.9   1999 4   manual(m5) f   33  44  d  compact   \n",
       "2 volkswagen   new beetle 1.9   1999 4   manual(m5) f   35  44  d  subcompact\n",
       "3 volkswagen   new beetle 1.9   1999 4   auto(l4)   f   29  41  d  subcompact"
      ]
     },
     "metadata": {},
     "output_type": "display_data"
    }
   ],
   "source": [
    "lower_bound <- quantile(dat$hwy, 0.01)\n",
    "upper_bound <- quantile(dat$hwy, 0.99)\n",
    "outlier_ind <- which(dat$hwy < lower_bound | dat$hwy > upper_bound)\n",
    "lower_bound\n",
    "upper_bound\n",
    "dat[outlier_ind, ]"
   ]
  },
  {
   "cell_type": "markdown",
   "metadata": {},
   "source": [
    "<u>Hampel filter</u>\n",
    "\n",
    "The <i>Hampel filter</i> considers outliers as the values out side the interval formed by the median, plus or minus 3 <a href=\"https://en.wikipedia.org/wiki/Median_absolute_deviation\">median absolute deviations</a> (MAD)."
   ]
  },
  {
   "cell_type": "markdown",
   "metadata": {},
   "source": [
    "![](files/hampel.png)"
   ]
  },
  {
   "cell_type": "code",
   "execution_count": 47,
   "metadata": {},
   "outputs": [
    {
     "name": "stdout",
     "output_type": "stream",
     "text": [
      "[1] 1.761\n"
     ]
    }
   ],
   "source": [
    "lower_bound <- median(dat$hwy) - 3 * mad(dat$hwy)\n",
    "print(lower_bound)"
   ]
  },
  {
   "cell_type": "code",
   "execution_count": 48,
   "metadata": {},
   "outputs": [
    {
     "data": {
      "text/html": [
       "46.239"
      ],
      "text/latex": [
       "46.239"
      ],
      "text/markdown": [
       "46.239"
      ],
      "text/plain": [
       "[1] 46.239"
      ]
     },
     "metadata": {},
     "output_type": "display_data"
    }
   ],
   "source": [
    "upper_bound <- median(dat$hwy) + 3 * mad(dat$hwy)\n",
    "upper_bound"
   ]
  },
  {
   "cell_type": "code",
   "execution_count": 49,
   "metadata": {},
   "outputs": [
    {
     "name": "stdout",
     "output_type": "stream",
     "text": [
      "integer(0)\n"
     ]
    }
   ],
   "source": [
    "outlier_ind <- which(dat$hwy < lower_bound | dat$hwy > upper_bound)\n",
    "print(outlier_ind)"
   ]
  },
  {
   "cell_type": "markdown",
   "metadata": {},
   "source": [
    "<u>Dixon's test</u>\n",
    "\n",
    "<a href=\"https://en.wikipedia.org/wiki/Dixon%27s_Q_test\">Dixon's Q test</a> is used to test whether a single low or high value is an outlier. The dixon test is most useful for small sample sizes (such as n  &leq; 25)."
   ]
  },
  {
   "cell_type": "markdown",
   "metadata": {},
   "source": [
    "The test can be performed using the <code>dixon.test()</code> function from the <code>{outliers}</code> package."
   ]
  },
  {
   "cell_type": "code",
   "execution_count": 50,
   "metadata": {},
   "outputs": [
    {
     "data": {
      "text/plain": [
       "\n",
       "\tDixon test for outliers\n",
       "\n",
       "data:  subdat$hwy\n",
       "Q = 0.57143, p-value = 0.006508\n",
       "alternative hypothesis: lowest value 15 is an outlier\n"
      ]
     },
     "metadata": {},
     "output_type": "display_data"
    }
   ],
   "source": [
    "library(outliers)\n",
    "subdat <- dat[1:20,]\n",
    "test <- dixon.test(subdat$hwy)\n",
    "test"
   ]
  },
  {
   "cell_type": "markdown",
   "metadata": {},
   "source": [
    "To test for the highest value, add the <code>opposite = TRUE</code> argument to the function:"
   ]
  },
  {
   "cell_type": "code",
   "execution_count": 51,
   "metadata": {},
   "outputs": [
    {
     "data": {
      "text/plain": [
       "\n",
       "\tDixon test for outliers\n",
       "\n",
       "data:  subdat$hwy\n",
       "Q = 0.25, p-value = 0.8582\n",
       "alternative hypothesis: highest value 31 is an outlier\n"
      ]
     },
     "metadata": {},
     "output_type": "display_data"
    }
   ],
   "source": [
    "test <- dixon.test(subdat$hwy, opposite = TRUE)\n",
    "test"
   ]
  },
  {
   "cell_type": "markdown",
   "metadata": {},
   "source": [
    "<u>Rosner's test</u>\n",
    "\n",
    "<i>Rosner's test</i> for outliers can detect several outliers at once, and it is designed to avoid the problem of masking, where an outlier that is close in value to another outlier can go undetected.\n",
    "\n",
    "The Rosner test is most appropriate when the sample size is large (n &geq; 20)."
   ]
  },
  {
   "cell_type": "markdown",
   "metadata": {},
   "source": [
    "To perform the test, we use the <code>rosnerTest()</code> function from the <code>{EnvStats}</code> package. This function requires at least 2 arguments: the data and the number of suspected outliers <code>k</code> (with <code>k = 3</code> as the default)."
   ]
  },
  {
   "cell_type": "code",
   "execution_count": 52,
   "metadata": {},
   "outputs": [
    {
     "name": "stderr",
     "output_type": "stream",
     "text": [
      "Loading required package: EnvStats\n",
      "\n",
      "\n",
      "Attaching package: ‘EnvStats’\n",
      "\n",
      "\n",
      "The following objects are masked from ‘package:stats’:\n",
      "\n",
      "    predict, predict.lm\n",
      "\n",
      "\n",
      "The following object is masked from ‘package:base’:\n",
      "\n",
      "    print.default\n",
      "\n",
      "\n"
     ]
    },
    {
     "data": {
      "text/plain": [
       "\n",
       "Results of Outlier Test\n",
       "-------------------------\n",
       "\n",
       "Test Method:                     Rosner's Test for Outliers\n",
       "\n",
       "Hypothesized Distribution:       Normal\n",
       "\n",
       "Data:                            dat$hwy\n",
       "\n",
       "Sample Size:                     234\n",
       "\n",
       "Test Statistics:                 R.1 = 3.452739\n",
       "                                 R.2 = 3.552586\n",
       "                                 R.3 = 3.131909\n",
       "\n",
       "Test Statistic Parameter:        k = 3\n",
       "\n",
       "Alternative Hypothesis:          Up to 3 observations are not\n",
       "                                 from the same Distribution.\n",
       "\n",
       "Type I Error:                    5%\n",
       "\n",
       "Number of Outliers Detected:     0\n",
       "\n",
       "  i   Mean.i     SD.i Value Obs.Num    R.i+1 lambda.i+1 Outlier\n",
       "1 0 23.44017 5.954643    44     213 3.452739   3.652091   FALSE\n",
       "2 1 23.35193 5.812124    44     222 3.552586   3.650836   FALSE\n",
       "3 2 23.26293 5.663340    41     223 3.131909   3.649575   FALSE\n",
       "\n"
      ]
     },
     "metadata": {},
     "output_type": "display_data"
    }
   ],
   "source": [
    "if (!require(EnvStats)) install.packages(\"EnvStats\")\n",
    "test <- rosnerTest(dat$hwy, k = 3)\n",
    "test"
   ]
  },
  {
   "cell_type": "code",
   "execution_count": 53,
   "metadata": {},
   "outputs": [
    {
     "data": {
      "text/html": [
       "<table>\n",
       "<caption>A data.frame: 3 × 8</caption>\n",
       "<thead>\n",
       "\t<tr><th scope=col>i</th><th scope=col>Mean.i</th><th scope=col>SD.i</th><th scope=col>Value</th><th scope=col>Obs.Num</th><th scope=col>R.i+1</th><th scope=col>lambda.i+1</th><th scope=col>Outlier</th></tr>\n",
       "\t<tr><th scope=col>&lt;dbl&gt;</th><th scope=col>&lt;dbl&gt;</th><th scope=col>&lt;dbl&gt;</th><th scope=col>&lt;dbl&gt;</th><th scope=col>&lt;dbl&gt;</th><th scope=col>&lt;dbl&gt;</th><th scope=col>&lt;dbl&gt;</th><th scope=col>&lt;lgl&gt;</th></tr>\n",
       "</thead>\n",
       "<tbody>\n",
       "\t<tr><td>0</td><td>23.44017</td><td>5.954643</td><td>44</td><td>213</td><td>3.452739</td><td>3.652091</td><td>FALSE</td></tr>\n",
       "\t<tr><td>1</td><td>23.35193</td><td>5.812124</td><td>44</td><td>222</td><td>3.552586</td><td>3.650836</td><td>FALSE</td></tr>\n",
       "\t<tr><td>2</td><td>23.26293</td><td>5.663340</td><td>41</td><td>223</td><td>3.131909</td><td>3.649575</td><td>FALSE</td></tr>\n",
       "</tbody>\n",
       "</table>\n"
      ],
      "text/latex": [
       "A data.frame: 3 × 8\n",
       "\\begin{tabular}{llllllll}\n",
       " i & Mean.i & SD.i & Value & Obs.Num & R.i+1 & lambda.i+1 & Outlier\\\\\n",
       " <dbl> & <dbl> & <dbl> & <dbl> & <dbl> & <dbl> & <dbl> & <lgl>\\\\\n",
       "\\hline\n",
       "\t 0 & 23.44017 & 5.954643 & 44 & 213 & 3.452739 & 3.652091 & FALSE\\\\\n",
       "\t 1 & 23.35193 & 5.812124 & 44 & 222 & 3.552586 & 3.650836 & FALSE\\\\\n",
       "\t 2 & 23.26293 & 5.663340 & 41 & 223 & 3.131909 & 3.649575 & FALSE\\\\\n",
       "\\end{tabular}\n"
      ],
      "text/markdown": [
       "\n",
       "A data.frame: 3 × 8\n",
       "\n",
       "| i &lt;dbl&gt; | Mean.i &lt;dbl&gt; | SD.i &lt;dbl&gt; | Value &lt;dbl&gt; | Obs.Num &lt;dbl&gt; | R.i+1 &lt;dbl&gt; | lambda.i+1 &lt;dbl&gt; | Outlier &lt;lgl&gt; |\n",
       "|---|---|---|---|---|---|---|---|\n",
       "| 0 | 23.44017 | 5.954643 | 44 | 213 | 3.452739 | 3.652091 | FALSE |\n",
       "| 1 | 23.35193 | 5.812124 | 44 | 222 | 3.552586 | 3.650836 | FALSE |\n",
       "| 2 | 23.26293 | 5.663340 | 41 | 223 | 3.131909 | 3.649575 | FALSE |\n",
       "\n"
      ],
      "text/plain": [
       "  i Mean.i   SD.i     Value Obs.Num R.i+1    lambda.i+1 Outlier\n",
       "1 0 23.44017 5.954643 44    213     3.452739 3.652091   FALSE  \n",
       "2 1 23.35193 5.812124 44    222     3.552586 3.650836   FALSE  \n",
       "3 2 23.26293 5.663340 41    223     3.131909 3.649575   FALSE  "
      ]
     },
     "metadata": {},
     "output_type": "display_data"
    }
   ],
   "source": [
    "test$all.stats\n"
   ]
  },
  {
   "cell_type": "markdown",
   "metadata": {},
   "source": [
    "See <a href=\"https://www.statsandr.com/blog/outliers-detection-in-r/#additional-remarks\">Additional remarks</a> for other methods to detect outliers."
   ]
  },
  {
   "cell_type": "code",
   "execution_count": null,
   "metadata": {},
   "outputs": [],
   "source": []
  }
 ],
 "metadata": {
  "kernelspec": {
   "display_name": "R",
   "language": "R",
   "name": "ir"
  },
  "language_info": {
   "codemirror_mode": "r",
   "file_extension": ".r",
   "mimetype": "text/x-r-source",
   "name": "R",
   "pygments_lexer": "r",
   "version": "3.6.3"
  }
 },
 "nbformat": 4,
 "nbformat_minor": 4
}
