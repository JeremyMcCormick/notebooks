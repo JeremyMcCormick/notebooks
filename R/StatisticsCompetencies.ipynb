{
 "cells": [
  {
   "cell_type": "markdown",
   "metadata": {},
   "source": [
    "<style>\n",
    "ol {\n",
    "    list-style-type: decimal;\n",
    "}\n",
    "</style>\n",
    "\n",
    "<h2>Statistics Competencies</h2>\n",
    "\n",
    "<ol>\n",
    "    <li>Descriptive Statistics</li>\n",
    "    <ol style=\"list-style-type: decimal;\">\n",
    "        <li>Graphical Methods</li>\n",
    "        <ol style=\"list-style-type: decimal;\">\n",
    "            <li>Histograms, dot plots, and boxplots</li>\n",
    "            <li>Bar charts and pie charts</li>\n",
    "        </ol>\n",
    "        <li>Numerical Methods</li>\n",
    "        <ol style=\"list-style-type: decimal;\">\n",
    "            <li>Measures of central tendency: mean, median</li>\n",
    "            <li>Measures of variability: variance, standard deviation, range, interquartile range</li>\n",
    "            <li>Measures of relative standing: standard core, percentiles, quartiles</li>\n",
    "            <li>identifying outliers</li>\n",
    "        </ol>\n",
    "    </ol>\n",
    "    <li>Probability</li>\n",
    "    <ol style=\"list-style-type: decimal;\">\n",
    "        <li>Concepts of independence and conditional probability</li>\n",
    "        <li>The binomial distribution</li>\n",
    "        <li>The normal distribution</li>\n",
    "    </ol>\n",
    "    <li>Inference</li>\n",
    "    <ol style=\"list-style-type: decimal;\">\n",
    "        <li>Study Details</li>\n",
    "        <ol style=\"list-style-type: decimal;\">\n",
    "            <li>Simple random sampling, convenience sampling</li>\n",
    "            <li>Random assignment, completely randomized design, matched pairs design</li>\n",
    "        </ol>\n",
    "        <li>Estimation</li>\n",
    "        <ol style=\"list-style-type: decimal;\">\n",
    "            <li>Sampling distributions and properties of estimators</li>\n",
    "            <li> Confidence intervals (Single proportion, single mean, two proportions, two means, and paired\n",
    "                means)</li>\n",
    "        </ol>\n",
    "        <li>Tests of Hypotheses</li>\n",
    "        <ol style=\"list-style-type: decimal;\">\n",
    "            <li>General Principles: Type I and Type II errors, significance level, power</li>\n",
    "            <li>Tests for single populations (z-test for proportion, t-test for mean)</li>\n",
    "            <li>Test for difference in means</li>\n",
    "            <li>Test for paired difference in means</li>\n",
    "            <li>Analysis of Variance</li>\n",
    "            <li>Chi-squared test of association (independence)</li>\n",
    "            <li>Simple regression (Computation of the least squares regression line, inferences on the slope of the\n",
    "line)</li>\n",
    "            <li>Correlation (Pearson correlation coefficient, coefficient of determination)</li>\n",
    "        </ol>\n",
    "    </ol>\n",
    "</ol>\n",
    "\n",
    "</ol>\n",
    "\n"
   ]
  },
  {
   "cell_type": "markdown",
   "metadata": {},
   "source": [
    "<h2>1. Descriptive Statistics</h2>\n",
    "<h3>1.1 Graphical Methods</h3>\n",
    "<h4>1.1.1 Histograms, dot plots, and boxplots</h4>"
   ]
  },
  {
   "cell_type": "code",
   "execution_count": null,
   "metadata": {},
   "outputs": [],
   "source": [
    "Input = (\"\n",
    "Student  Sex     Teacher  Steps  Rating\n",
    "a        female  Catbus    8000   7\n",
    "b        female  Catbus    9000  10\n",
    "c        female  Catbus   10000   9\n",
    "d        female  Catbus    7000   5\n",
    "e        female  Catbus    6000   4\n",
    "f        female  Catbus    8000   8\n",
    "g        male    Catbus    7000   6\n",
    "h        male    Catbus    5000   5\n",
    "i        male    Catbus    9000  10\n",
    "j        male    Catbus    7000   8\n",
    "k        female  Satsuki   8000   7\n",
    "l        female  Satsuki   9000   8\n",
    "m        female  Satsuki   9000   8\n",
    "n        female  Satsuki   8000   9\n",
    "o        male    Satsuki   6000   5\n",
    "p        male    Satsuki   8000   9\n",
    "q        male    Satsuki   7000   6\n",
    "r        female  Totoro   10000  10\n",
    "s        female  Totoro    9000  10\n",
    "t        female  Totoro    8000   8\n",
    "u        female  Totoro    8000   7\n",
    "v        female  Totoro    6000   7\n",
    "w        male    Totoro    6000   8\n",
    "x        male    Totoro    8000  10\n",
    "y        male    Totoro    7000   7\n",
    "z        male    Totoro    7000   7\n",
    "\")\n",
    "\n",
    "Data = read.table(textConnection(Input),header=TRUE)\n",
    "Data"
   ]
  },
  {
   "cell_type": "code",
   "execution_count": null,
   "metadata": {},
   "outputs": [],
   "source": [
    "hist(Data$Steps, \n",
    "     main=\"Steps\", \n",
    "     xlab=\"Number of Steps\", \n",
    "     border=\"blue\", \n",
    "     col=\"green\", \n",
    "     xlim=c(4000, 11000))\n",
    "#axis(1, col=\"dodgerblue\", col.ticks=\"green\", col.axis=\"orange\")\n"
   ]
  },
  {
   "cell_type": "code",
   "execution_count": null,
   "metadata": {},
   "outputs": [],
   "source": [
    "plot(Rating ~ jitter(Steps),  # jitter offsets points so you can see them all\n",
    "    data=Data,\n",
    "    pch=16,                   # shape of points\n",
    "    cex=1.0,                  # size of points\n",
    "    col=\"red\",\n",
    "    xlab=\"Steps\",\n",
    "    ylab=\"Rating\")"
   ]
  },
  {
   "cell_type": "code",
   "execution_count": null,
   "metadata": {},
   "outputs": [],
   "source": [
    "boxplot(Data$Steps, ylab=\"Steps\")"
   ]
  },
  {
   "cell_type": "markdown",
   "metadata": {},
   "source": [
    "<u>Box plot for with means</u>\n",
    "\n",
    "A <a href=\"https://en.wikipedia.org/wiki/Box_plot\">box plot</a> is a method for graphically depicting groups of numerical data through their quartiles."
   ]
  },
  {
   "cell_type": "code",
   "execution_count": null,
   "metadata": {},
   "outputs": [],
   "source": [
    "M = mean(Data$Steps)\n",
    "boxplot(Data$Steps, ylab=\"Steps\", xlab=\"\")\n",
    "points(M, col=\"red\", pch=\"+\", cex=2)"
   ]
  },
  {
   "cell_type": "markdown",
   "metadata": {},
   "source": [
    "<u>Box plot for one-way data</u>"
   ]
  },
  {
   "cell_type": "code",
   "execution_count": null,
   "metadata": {},
   "outputs": [],
   "source": [
    "boxplot(Steps ~ Sex, data=Data, ylab=\"Steps\")"
   ]
  },
  {
   "cell_type": "markdown",
   "metadata": {},
   "source": [
    "<u>Box plot for one-way data with means</u>"
   ]
  },
  {
   "cell_type": "code",
   "execution_count": null,
   "metadata": {},
   "outputs": [],
   "source": [
    "M = tapply(Data$Steps, \n",
    "          INDEX = Data$Sex,\n",
    "          FUN = mean)\n",
    "\n",
    "boxplot(Steps ~ Sex, data=Data, ylab=\"Steps\")\n",
    "\n",
    "points(M, col=\"red\", pch=\"+\", cex=2)"
   ]
  },
  {
   "cell_type": "markdown",
   "metadata": {},
   "source": [
    "<u>Box plot for two-way data</u>"
   ]
  },
  {
   "cell_type": "code",
   "execution_count": null,
   "metadata": {},
   "outputs": [],
   "source": [
    "boxplot(Steps ~ Sex + Teacher, data=Data, ylab=\"Steps\", cex.axis=0.77)"
   ]
  },
  {
   "cell_type": "markdown",
   "metadata": {},
   "source": [
    "<u>Box plot for tw-way data with means</u>"
   ]
  },
  {
   "cell_type": "code",
   "execution_count": null,
   "metadata": {},
   "outputs": [],
   "source": [
    "M = tapply(Data$Steps,\n",
    "           INDEX = Data$Teach : Data$Sex,\n",
    "           FUN = mean)\n",
    "\n",
    "boxplot(Steps ~ Sex + Teacher,\n",
    "        data = Data,\n",
    "        ylab = \"Steps\",\n",
    "        cex.axis=0.77)\n",
    "\n",
    "points(M, col=\"red\", pch=\"+\", cex=2)"
   ]
  },
  {
   "cell_type": "markdown",
   "metadata": {},
   "source": [
    "<h4>1.1.2 Bar charts and pie charts<h4>"
   ]
  },
  {
   "cell_type": "markdown",
   "metadata": {},
   "source": [
    "<u>Bar chart for categorical data</u>"
   ]
  },
  {
   "cell_type": "code",
   "execution_count": null,
   "metadata": {},
   "outputs": [],
   "source": [
    "barplot(table(Data$Sex))"
   ]
  },
  {
   "cell_type": "markdown",
   "metadata": {},
   "source": [
    "<u>Bar chart with counts for continuous data</u>"
   ]
  },
  {
   "cell_type": "code",
   "execution_count": null,
   "metadata": {},
   "outputs": [],
   "source": [
    "barplot(table(Data$Steps))"
   ]
  },
  {
   "cell_type": "code",
   "execution_count": null,
   "metadata": {},
   "outputs": [],
   "source": [
    "#ordered_data = Data[order(Data$Steps, decreasing = TRUE),]\n",
    "#tbl <- table(ordered_data$Steps)\n",
    "#tbl[order(as.numeric(names(tbl)))]\n",
    "#tbl\n",
    "#barplot(tbl)\n",
    "#barplot(table(ordered_data$Steps))"
   ]
  },
  {
   "cell_type": "markdown",
   "metadata": {},
   "source": [
    "<u>Stacked bar plot</u>"
   ]
  },
  {
   "cell_type": "code",
   "execution_count": null,
   "metadata": {},
   "outputs": [],
   "source": [
    "counts <- table(Data$Sex, Data$Teacher)\n",
    "barplot(counts, main=\"Teacher by Gender\", col=c(\"darkblue\", \"red\"), legend = rownames(counts))"
   ]
  },
  {
   "cell_type": "markdown",
   "metadata": {},
   "source": [
    "<u>Grouped bar plot</u>"
   ]
  },
  {
   "cell_type": "code",
   "execution_count": null,
   "metadata": {},
   "outputs": [],
   "source": [
    "barplot(counts, main=\"Teacher by Gender\", col=c(\"darkblue\", \"red\"), legend = rownames(counts), beside=TRUE)"
   ]
  },
  {
   "cell_type": "markdown",
   "metadata": {},
   "source": [
    "<u>Pie charts</u>\n",
    "\n",
    "https://www.statmethods.net/graphs/pie.html"
   ]
  },
  {
   "cell_type": "code",
   "execution_count": null,
   "metadata": {},
   "outputs": [],
   "source": [
    "slices <- c(10, 12,4, 16, 8)\n",
    "lbls <- c(\"US\", \"UK\", \"Australia\", \"Germany\", \"France\")\n",
    "pie(slices, labels = lbls, main=\"Pie Chart of Countries\")"
   ]
  },
  {
   "cell_type": "markdown",
   "metadata": {},
   "source": [
    "<h3>1.2 Numerical Methods</h3>\n",
    "<h4>1.2.1 Measures of central tendency: mean, median</h4>"
   ]
  },
  {
   "cell_type": "code",
   "execution_count": null,
   "metadata": {},
   "outputs": [],
   "source": [
    "<u>Mean</u>"
   ]
  },
  {
   "cell_type": "code",
   "execution_count": null,
   "metadata": {},
   "outputs": [],
   "source": [
    "mean(Data$Rating)"
   ]
  },
  {
   "cell_type": "markdown",
   "metadata": {},
   "source": [
    "<u>Median</u>"
   ]
  },
  {
   "cell_type": "code",
   "execution_count": null,
   "metadata": {},
   "outputs": [],
   "source": [
    "median(Data$Rating)"
   ]
  },
  {
   "cell_type": "markdown",
   "metadata": {},
   "source": [
    "<h4>1.2.2 Measures of variability: variance, standard deviation, range, interquartile range</h4>"
   ]
  },
  {
   "cell_type": "markdown",
   "metadata": {},
   "source": [
    "<u>Variance</u>"
   ]
  },
  {
   "cell_type": "markdown",
   "metadata": {},
   "source": [
    "The <i>variance</i> is a numerical measure of how the data values are dispersed around the mean. \n",
    "\n",
    "The sample variance is defined as:"
   ]
  },
  {
   "cell_type": "markdown",
   "metadata": {},
   "source": [
    "![](files/numerical-measures5x.png)"
   ]
  },
  {
   "cell_type": "code",
   "execution_count": null,
   "metadata": {},
   "outputs": [],
   "source": [
    "var(Data$Rating)"
   ]
  },
  {
   "cell_type": "markdown",
   "metadata": {},
   "source": [
    "<u>Standard deviation</u>"
   ]
  },
  {
   "cell_type": "markdown",
   "metadata": {},
   "source": [
    "The <i>standard deviation</i> of an observation variable is the square root of its variance."
   ]
  },
  {
   "cell_type": "code",
   "execution_count": null,
   "metadata": {},
   "outputs": [],
   "source": [
    "sd(Data$Rating)"
   ]
  },
  {
   "cell_type": "markdown",
   "metadata": {},
   "source": [
    "<u>Range</u>"
   ]
  },
  {
   "cell_type": "markdown",
   "metadata": {},
   "source": [
    "The <i>range</i> of an observation variable is the difference of its largest and smallest data values. It is a measure of how far apart the entire data spreads in value."
   ]
  },
  {
   "cell_type": "code",
   "execution_count": null,
   "metadata": {},
   "outputs": [],
   "source": [
    "max(Data$Rating) - min(Data$Rating)"
   ]
  },
  {
   "cell_type": "markdown",
   "metadata": {},
   "source": [
    "<u>Interquartile range</u>\n",
    "\n",
    "The <i>interquartile range</i> of an observation variable is the difference of its upper and lower quartiles. It is a measure of how far apart the middle portion of data spreads in value."
   ]
  },
  {
   "cell_type": "code",
   "execution_count": null,
   "metadata": {},
   "outputs": [],
   "source": [
    "IQR(Data$Rating)"
   ]
  },
  {
   "cell_type": "markdown",
   "metadata": {},
   "source": [
    "<h4>1.2.3 Measures of relative standing: standard core, percentiles, quartiles</h4>"
   ]
  },
  {
   "cell_type": "markdown",
   "metadata": {},
   "source": [
    "The nth percentile of an observation variable is the value that cuts off the first n percent of the data values when it is sorted in ascending order."
   ]
  },
  {
   "cell_type": "code",
   "execution_count": null,
   "metadata": {},
   "outputs": [],
   "source": [
    "quantile(Data$Rating, c(.25, .5, .75))"
   ]
  },
  {
   "cell_type": "markdown",
   "metadata": {},
   "source": [
    "<h4>1.2.4 Identifying Outliers</h4>"
   ]
  },
  {
   "cell_type": "markdown",
   "metadata": {},
   "source": [
    "This webpage provides comprehensive information on identifying outliers in R:\n",
    "\n",
    "https://www.statsandr.com/blog/outliers-detection-in-r/"
   ]
  },
  {
   "cell_type": "markdown",
   "metadata": {},
   "source": [
    "<u>Introduction</u>\n",
    "\n",
    "An <i>outlier</i> is a value or an observation that is distance from other observations, that is to say, a data point that differs significantly from other data points."
   ]
  },
  {
   "cell_type": "markdown",
   "metadata": {},
   "source": [
    "Outliers may arise from inherent variability of the observed phenomenon (extreme values) or errors (mistakes)."
   ]
  },
  {
   "cell_type": "markdown",
   "metadata": {},
   "source": [
    "Considerations in removing outliers:\n",
    "\n",
    "<ol>\n",
    "    <li>The domain/context of the analyses and the research question. Sometimes may be removed as they indicate a malfunctioning process or might be kept because they contain valuable information. Analyses may be performed twice, once with and once without outliers to evaluate their impact on the conclusions. If results change drastically due to some influential values, this should caution the research to make overambitious claims.</li>\n",
    "    <li>Whether the tests you will perform are robust to the presence of outliers or not. For instance, the slope of a simple linear regression may significantly vary with just one outlier, whereas non-parametric tests such as the <i>Wilcoxon test</i> are usually robust to outliers.\n",
    "     <li>How distant are the outliers from other observations? Some observations considered as outliers are actually not really extreme compared to all other observations, while other potential outliers may be really distant from the rest of the observations</li>\n",
    "</ol>"
   ]
  },
  {
   "cell_type": "markdown",
   "metadata": {},
   "source": [
    "<u>Maximum and Minimum</u>"
   ]
  },
  {
   "cell_type": "code",
   "execution_count": 1,
   "metadata": {},
   "outputs": [
    {
     "data": {
      "text/plain": [
       "   Min. 1st Qu.  Median    Mean 3rd Qu.    Max. \n",
       "  12.00   18.00   24.00   23.44   27.00   44.00 "
      ]
     },
     "metadata": {},
     "output_type": "display_data"
    }
   ],
   "source": [
    "dat <- ggplot2::mpg\n",
    "summary(dat$hwy)"
   ]
  },
  {
   "cell_type": "code",
   "execution_count": null,
   "metadata": {},
   "outputs": [],
   "source": [
    "min(dat$hwy)\n",
    "max(dat$hwy)"
   ]
  },
  {
   "cell_type": "markdown",
   "metadata": {},
   "source": [
    "<u>Histogram</u>"
   ]
  },
  {
   "cell_type": "code",
   "execution_count": null,
   "metadata": {},
   "outputs": [],
   "source": [
    "hist(dat$hwy, xlab=\"hwy\", main=\"Histogram of hwy\", breaks=sqrt(nrow(dat)))"
   ]
  },
  {
   "cell_type": "markdown",
   "metadata": {},
   "source": [
    "<u>IQR criterion</u>"
   ]
  },
  {
   "cell_type": "markdown",
   "metadata": {},
   "source": [
    "The IQR criterion means that all observations above ![](files/iqr_below.png) and below ![](files/iqr_above.png) are considered as potential outliers by R. nIn other words, all observations outside of the following interval will be considered as potential outliers:\n",
    "\n",
    "![](files/outliers.png)"
   ]
  },
  {
   "cell_type": "code",
   "execution_count": null,
   "metadata": {},
   "outputs": [],
   "source": [
    "hwy_iqr = IQR(dat$hwy)\n",
    "hwy_quart = quantile(dat$hwy, c(.25, .75))\n",
    "hwy_q25 = unname(hwy_quart)[1]\n",
    "hwy_q75 = unname(hwy_quart)[2]\n",
    "\n",
    "outlier_low = hwy_q25 - (1.5 * hwy_iqr)\n",
    "outlier_high = hwy_q75 + (1.5 * hwy_iqr)\n",
    "print(paste(\"outlier low: \", outlier_low), quote = FALSE)\n",
    "print(paste(\"outlier high: \", outlier_high), quote = FALSE)"
   ]
  },
  {
   "cell_type": "code",
   "execution_count": null,
   "metadata": {},
   "outputs": [],
   "source": [
    "# select values from data frame to find outliers\n",
    "hwy_outliers1 = dat[which(dat$hwy < outlier_low | dat$hwy > outlier_high), ]\n",
    "hwy_outliers1$hwy\n",
    "\n",
    "# use subset function to find outliers\n",
    "hwy_outliers2 = subset(dat, hwy < outlier_low | hwy > outlier_high)\n",
    "hwy_outliers2$hwy"
   ]
  },
  {
   "cell_type": "markdown",
   "metadata": {},
   "source": [
    "<u>Percentiles</u>\n",
    "\n",
    "With the percentiles method, all observations that lie outside the interval formed by the 2.5 and 97.5 percentiles will be considered as potential outliers. Other percentiles such as the 1 and 99, or the 5 and 95 percentiles can also be considered to construct the interval."
   ]
  },
  {
   "cell_type": "code",
   "execution_count": null,
   "metadata": {},
   "outputs": [],
   "source": [
    "lower_bound <- quantile(dat$hwy, 0.025)\n",
    "upper_bound <- quantile(dat$hwy, 0.975)\n",
    "outlier_ind <- which(dat$hwy < lower_bound | dat$hwy > upper_bound)\n",
    "lower_bound\n",
    "upper_bound\n",
    "#sort(outlier_ind)\n",
    "dat[outlier_ind, \"hwy\"]"
   ]
  },
  {
   "cell_type": "code",
   "execution_count": null,
   "metadata": {},
   "outputs": [],
   "source": [
    "dat[outlier_ind, ]"
   ]
  },
  {
   "cell_type": "code",
   "execution_count": null,
   "metadata": {},
   "outputs": [],
   "source": [
    "lower_bound <- quantile(dat$hwy, 0.01)\n",
    "upper_bound <- quantile(dat$hwy, 0.99)\n",
    "outlier_ind <- which(dat$hwy < lower_bound | dat$hwy > upper_bound)\n",
    "lower_bound\n",
    "upper_bound\n",
    "dat[outlier_ind, ]"
   ]
  },
  {
   "cell_type": "markdown",
   "metadata": {},
   "source": [
    "<u>Hampel filter</u>\n",
    "\n",
    "The <i>Hampel filter</i> considers outliers as the values out side the interval formed by the median, plus or minus 3 <a href=\"https://en.wikipedia.org/wiki/Median_absolute_deviation\">median absolute deviations</a> (MAD)."
   ]
  },
  {
   "cell_type": "markdown",
   "metadata": {},
   "source": [
    "![](files/hampel.png)"
   ]
  },
  {
   "cell_type": "code",
   "execution_count": 2,
   "metadata": {},
   "outputs": [
    {
     "name": "stdout",
     "output_type": "stream",
     "text": [
      "[1] 1.761\n"
     ]
    }
   ],
   "source": [
    "lower_bound <- median(dat$hwy) - 3 * mad(dat$hwy)\n",
    "print(lower_bound)"
   ]
  },
  {
   "cell_type": "code",
   "execution_count": 3,
   "metadata": {},
   "outputs": [
    {
     "data": {
      "text/html": [
       "46.239"
      ],
      "text/latex": [
       "46.239"
      ],
      "text/markdown": [
       "46.239"
      ],
      "text/plain": [
       "[1] 46.239"
      ]
     },
     "metadata": {},
     "output_type": "display_data"
    }
   ],
   "source": [
    "upper_bound <- median(dat$hwy) + 3 * mad(dat$hwy)\n",
    "upper_bound"
   ]
  },
  {
   "cell_type": "code",
   "execution_count": 5,
   "metadata": {},
   "outputs": [
    {
     "name": "stdout",
     "output_type": "stream",
     "text": [
      "integer(0)\n"
     ]
    }
   ],
   "source": [
    "outlier_ind <- which(dat$hwy < lower_bound | dat$hwy > upper_bound)\n",
    "print(outlier_ind)"
   ]
  },
  {
   "cell_type": "markdown",
   "metadata": {},
   "source": [
    "<u>Dixon's test</u>\n",
    "\n",
    "<a href=\"https://en.wikipedia.org/wiki/Dixon%27s_Q_test\">Dixon's Q test</a> is used to test whether a single low or high value is an outlier. The dixon test is most useful for small sample sizes (such as n  &leq; 25)."
   ]
  },
  {
   "cell_type": "markdown",
   "metadata": {},
   "source": [
    "The test can be performed using the <code>dixon.test()</code> function from the <code>{outliers}</code> package."
   ]
  },
  {
   "cell_type": "code",
   "execution_count": 8,
   "metadata": {},
   "outputs": [
    {
     "data": {
      "text/plain": [
       "\n",
       "\tDixon test for outliers\n",
       "\n",
       "data:  subdat$hwy\n",
       "Q = 0.57143, p-value = 0.006508\n",
       "alternative hypothesis: lowest value 15 is an outlier\n"
      ]
     },
     "metadata": {},
     "output_type": "display_data"
    }
   ],
   "source": [
    "library(outliers)\n",
    "subdat <- dat[1:20,]\n",
    "test <- dixon.test(subdat$hwy)\n",
    "test"
   ]
  },
  {
   "cell_type": "markdown",
   "metadata": {},
   "source": [
    "To test for the highest value, add the <code>opposite = TRUE</code> argument to the function:"
   ]
  },
  {
   "cell_type": "code",
   "execution_count": 9,
   "metadata": {},
   "outputs": [
    {
     "data": {
      "text/plain": [
       "\n",
       "\tDixon test for outliers\n",
       "\n",
       "data:  subdat$hwy\n",
       "Q = 0.25, p-value = 0.8582\n",
       "alternative hypothesis: highest value 31 is an outlier\n"
      ]
     },
     "metadata": {},
     "output_type": "display_data"
    }
   ],
   "source": [
    "test <- dixon.test(subdat$hwy, opposite = TRUE)\n",
    "test"
   ]
  },
  {
   "cell_type": "markdown",
   "metadata": {},
   "source": [
    "<u>Rosner's test</u>\n",
    "\n",
    "<i>Rosner's test</i> for outliers can detect several outliers at once, and it is designed to avoid the problem of masking, where an outlier that is close in value to another outlier can go undetected.\n",
    "\n",
    "The Rosner test is most appropriate when the sample size is large (n &geq; 20)."
   ]
  },
  {
   "cell_type": "markdown",
   "metadata": {},
   "source": [
    "To perform the test, we use the <code>rosnerTest()</code> function from the <code>{EnvStats}</code> package. This function requires at least 2 arguments: the data and the number of suspected outliers <code>k</code> (with <code>k = 3</code> as the default)."
   ]
  },
  {
   "cell_type": "code",
   "execution_count": 12,
   "metadata": {},
   "outputs": [
    {
     "name": "stderr",
     "output_type": "stream",
     "text": [
      "Loading required package: EnvStats\n",
      "\n",
      "\n",
      "Attaching package: ‘EnvStats’\n",
      "\n",
      "\n",
      "The following objects are masked from ‘package:stats’:\n",
      "\n",
      "    predict, predict.lm\n",
      "\n",
      "\n",
      "The following object is masked from ‘package:base’:\n",
      "\n",
      "    print.default\n",
      "\n",
      "\n"
     ]
    },
    {
     "data": {
      "text/plain": [
       "\n",
       "Results of Outlier Test\n",
       "-------------------------\n",
       "\n",
       "Test Method:                     Rosner's Test for Outliers\n",
       "\n",
       "Hypothesized Distribution:       Normal\n",
       "\n",
       "Data:                            dat$hwy\n",
       "\n",
       "Sample Size:                     234\n",
       "\n",
       "Test Statistics:                 R.1 = 3.452739\n",
       "                                 R.2 = 3.552586\n",
       "                                 R.3 = 3.131909\n",
       "\n",
       "Test Statistic Parameter:        k = 3\n",
       "\n",
       "Alternative Hypothesis:          Up to 3 observations are not\n",
       "                                 from the same Distribution.\n",
       "\n",
       "Type I Error:                    5%\n",
       "\n",
       "Number of Outliers Detected:     0\n",
       "\n",
       "  i   Mean.i     SD.i Value Obs.Num    R.i+1 lambda.i+1 Outlier\n",
       "1 0 23.44017 5.954643    44     213 3.452739   3.652091   FALSE\n",
       "2 1 23.35193 5.812124    44     222 3.552586   3.650836   FALSE\n",
       "3 2 23.26293 5.663340    41     223 3.131909   3.649575   FALSE\n",
       "\n"
      ]
     },
     "metadata": {},
     "output_type": "display_data"
    }
   ],
   "source": [
    "if (!require(EnvStats)) install.packages(\"EnvStats\")\n",
    "test <- rosnerTest(dat$hwy, k = 3)\n",
    "test"
   ]
  },
  {
   "cell_type": "code",
   "execution_count": 13,
   "metadata": {},
   "outputs": [
    {
     "data": {
      "text/html": [
       "<table>\n",
       "<caption>A data.frame: 3 × 8</caption>\n",
       "<thead>\n",
       "\t<tr><th scope=col>i</th><th scope=col>Mean.i</th><th scope=col>SD.i</th><th scope=col>Value</th><th scope=col>Obs.Num</th><th scope=col>R.i+1</th><th scope=col>lambda.i+1</th><th scope=col>Outlier</th></tr>\n",
       "\t<tr><th scope=col>&lt;dbl&gt;</th><th scope=col>&lt;dbl&gt;</th><th scope=col>&lt;dbl&gt;</th><th scope=col>&lt;dbl&gt;</th><th scope=col>&lt;dbl&gt;</th><th scope=col>&lt;dbl&gt;</th><th scope=col>&lt;dbl&gt;</th><th scope=col>&lt;lgl&gt;</th></tr>\n",
       "</thead>\n",
       "<tbody>\n",
       "\t<tr><td>0</td><td>23.44017</td><td>5.954643</td><td>44</td><td>213</td><td>3.452739</td><td>3.652091</td><td>FALSE</td></tr>\n",
       "\t<tr><td>1</td><td>23.35193</td><td>5.812124</td><td>44</td><td>222</td><td>3.552586</td><td>3.650836</td><td>FALSE</td></tr>\n",
       "\t<tr><td>2</td><td>23.26293</td><td>5.663340</td><td>41</td><td>223</td><td>3.131909</td><td>3.649575</td><td>FALSE</td></tr>\n",
       "</tbody>\n",
       "</table>\n"
      ],
      "text/latex": [
       "A data.frame: 3 × 8\n",
       "\\begin{tabular}{llllllll}\n",
       " i & Mean.i & SD.i & Value & Obs.Num & R.i+1 & lambda.i+1 & Outlier\\\\\n",
       " <dbl> & <dbl> & <dbl> & <dbl> & <dbl> & <dbl> & <dbl> & <lgl>\\\\\n",
       "\\hline\n",
       "\t 0 & 23.44017 & 5.954643 & 44 & 213 & 3.452739 & 3.652091 & FALSE\\\\\n",
       "\t 1 & 23.35193 & 5.812124 & 44 & 222 & 3.552586 & 3.650836 & FALSE\\\\\n",
       "\t 2 & 23.26293 & 5.663340 & 41 & 223 & 3.131909 & 3.649575 & FALSE\\\\\n",
       "\\end{tabular}\n"
      ],
      "text/markdown": [
       "\n",
       "A data.frame: 3 × 8\n",
       "\n",
       "| i &lt;dbl&gt; | Mean.i &lt;dbl&gt; | SD.i &lt;dbl&gt; | Value &lt;dbl&gt; | Obs.Num &lt;dbl&gt; | R.i+1 &lt;dbl&gt; | lambda.i+1 &lt;dbl&gt; | Outlier &lt;lgl&gt; |\n",
       "|---|---|---|---|---|---|---|---|\n",
       "| 0 | 23.44017 | 5.954643 | 44 | 213 | 3.452739 | 3.652091 | FALSE |\n",
       "| 1 | 23.35193 | 5.812124 | 44 | 222 | 3.552586 | 3.650836 | FALSE |\n",
       "| 2 | 23.26293 | 5.663340 | 41 | 223 | 3.131909 | 3.649575 | FALSE |\n",
       "\n"
      ],
      "text/plain": [
       "  i Mean.i   SD.i     Value Obs.Num R.i+1    lambda.i+1 Outlier\n",
       "1 0 23.44017 5.954643 44    213     3.452739 3.652091   FALSE  \n",
       "2 1 23.35193 5.812124 44    222     3.552586 3.650836   FALSE  \n",
       "3 2 23.26293 5.663340 41    223     3.131909 3.649575   FALSE  "
      ]
     },
     "metadata": {},
     "output_type": "display_data"
    }
   ],
   "source": [
    "test$all.stats\n"
   ]
  },
  {
   "cell_type": "markdown",
   "metadata": {},
   "source": [
    "See <a href=\"https://www.statsandr.com/blog/outliers-detection-in-r/#additional-remarks\">Additional remarks</a> for other methods to detect outliers."
   ]
  },
  {
   "cell_type": "code",
   "execution_count": null,
   "metadata": {},
   "outputs": [],
   "source": []
  }
 ],
 "metadata": {
  "kernelspec": {
   "display_name": "R",
   "language": "R",
   "name": "ir"
  },
  "language_info": {
   "codemirror_mode": "r",
   "file_extension": ".r",
   "mimetype": "text/x-r-source",
   "name": "R",
   "pygments_lexer": "r",
   "version": "3.6.3"
  }
 },
 "nbformat": 4,
 "nbformat_minor": 4
}
